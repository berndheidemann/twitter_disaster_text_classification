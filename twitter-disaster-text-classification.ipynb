{
 "metadata": {
  "kernelspec": {
   "display_name": "Python 3",
   "language": "python",
   "name": "python3"
  },
  "language_info": {
   "name": "python",
   "version": "3.7.12",
   "mimetype": "text/x-python",
   "codemirror_mode": {
    "name": "ipython",
    "version": 3
   },
   "pygments_lexer": "ipython3",
   "nbconvert_exporter": "python",
   "file_extension": ".py"
  }
 },
 "nbformat_minor": 4,
 "nbformat": 4,
 "cells": [
  {
   "cell_type": "code",
   "source": "# https://www.kaggle.com/competitions/nlp-getting-started\n\n!python -m spacy download en_core_web_sm",
   "metadata": {
    "collapsed": false,
    "jupyter": {
     "outputs_hidden": false
    },
    "trusted": true
   },
   "execution_count": 47,
   "outputs": [
    {
     "name": "stderr",
     "output_type": "stream",
     "text": [
      "Traceback (most recent call last):\n",
      "  File \"C:\\Users\\bernd\\AppData\\Local\\Programs\\Python\\Python39\\lib\\runpy.py\", line 188, in _run_module_as_main\n",
      "    mod_name, mod_spec, code = _get_module_details(mod_name, _Error)\n",
      "  File \"C:\\Users\\bernd\\AppData\\Local\\Programs\\Python\\Python39\\lib\\runpy.py\", line 147, in _get_module_details\n",
      "    return _get_module_details(pkg_main_name, error)\n",
      "  File \"C:\\Users\\bernd\\AppData\\Local\\Programs\\Python\\Python39\\lib\\runpy.py\", line 111, in _get_module_details\n",
      "    __import__(pkg_name)\n",
      "  File \"C:\\Users\\bernd\\AppData\\Local\\Programs\\Python\\Python39\\lib\\site-packages\\spacy\\__init__.py\", line 6, in <module>\n",
      "    from .errors import setup_default_warnings\n",
      "  File \"C:\\Users\\bernd\\AppData\\Local\\Programs\\Python\\Python39\\lib\\site-packages\\spacy\\errors.py\", line 2, in <module>\n",
      "    from .compat import Literal\n",
      "  File \"C:\\Users\\bernd\\AppData\\Local\\Programs\\Python\\Python39\\lib\\site-packages\\spacy\\compat.py\", line 3, in <module>\n",
      "    from thinc.util import copy_array\n",
      "  File \"C:\\Users\\bernd\\AppData\\Local\\Programs\\Python\\Python39\\lib\\site-packages\\thinc\\__init__.py\", line 5, in <module>\n",
      "    from .config import registry\n",
      "  File \"C:\\Users\\bernd\\AppData\\Local\\Programs\\Python\\Python39\\lib\\site-packages\\thinc\\config.py\", line 2, in <module>\n",
      "    import confection\n",
      "  File \"C:\\Users\\bernd\\AppData\\Local\\Programs\\Python\\Python39\\lib\\site-packages\\confection\\__init__.py\", line 10, in <module>\n",
      "    from pydantic import BaseModel, create_model, ValidationError, Extra\n",
      "  File \"pydantic\\__init__.py\", line 2, in init pydantic.__init__\n",
      "  File \"pydantic\\dataclasses.py\", line 52, in init pydantic.dataclasses\n",
      "    #   +--- init= parameter\n",
      "ImportError: cannot import name dataclass_transform\n"
     ]
    }
   ]
  },
  {
   "cell_type": "code",
   "source": "!git clone https://github.com/berndheidemann/twitter_disaster_text_classification.git",
   "metadata": {
    "execution": {
     "iopub.status.busy": "2023-02-07T06:52:01.314377Z",
     "iopub.execute_input": "2023-02-07T06:52:01.314786Z",
     "iopub.status.idle": "2023-02-07T06:52:03.265742Z",
     "shell.execute_reply.started": "2023-02-07T06:52:01.314743Z",
     "shell.execute_reply": "2023-02-07T06:52:03.264320Z"
    },
    "trusted": true
   },
   "execution_count": 48,
   "outputs": [
    {
     "name": "stderr",
     "output_type": "stream",
     "text": [
      "fatal: destination path 'twitter_disaster_text_classification' already exists and is not an empty directory.\n"
     ]
    }
   ]
  },
  {
   "cell_type": "code",
   "source": [
    "import pandas as pd\n",
    "\n",
    "path=\"./\"\n",
    "#path=\"/kaggle/working/twitter_disaster_text_classification/\"\n",
    "train_csv=path+\"train.csv\"\n",
    "test_csv=path+\"test.csv\"\n",
    "submission_csv=path+\"sample_submission.csv\"\n",
    "\n",
    "df = pd.read_csv(train_csv)\n",
    "df.head()"
   ],
   "metadata": {
    "collapsed": false,
    "jupyter": {
     "outputs_hidden": false
    },
    "execution": {
     "iopub.status.busy": "2023-02-07T06:52:03.267830Z",
     "iopub.execute_input": "2023-02-07T06:52:03.268227Z",
     "iopub.status.idle": "2023-02-07T06:52:03.318312Z",
     "shell.execute_reply.started": "2023-02-07T06:52:03.268187Z",
     "shell.execute_reply": "2023-02-07T06:52:03.317336Z"
    },
    "trusted": true
   },
   "execution_count": 49,
   "outputs": [
    {
     "data": {
      "text/plain": "   id keyword location                                               text  \\\n0   1     NaN      NaN  Our Deeds are the Reason of this #earthquake M...   \n1   4     NaN      NaN             Forest fire near La Ronge Sask. Canada   \n2   5     NaN      NaN  All residents asked to 'shelter in place' are ...   \n3   6     NaN      NaN  13,000 people receive #wildfires evacuation or...   \n4   7     NaN      NaN  Just got sent this photo from Ruby #Alaska as ...   \n\n   target  \n0       1  \n1       1  \n2       1  \n3       1  \n4       1  ",
      "text/html": "<div>\n<style scoped>\n    .dataframe tbody tr th:only-of-type {\n        vertical-align: middle;\n    }\n\n    .dataframe tbody tr th {\n        vertical-align: top;\n    }\n\n    .dataframe thead th {\n        text-align: right;\n    }\n</style>\n<table border=\"1\" class=\"dataframe\">\n  <thead>\n    <tr style=\"text-align: right;\">\n      <th></th>\n      <th>id</th>\n      <th>keyword</th>\n      <th>location</th>\n      <th>text</th>\n      <th>target</th>\n    </tr>\n  </thead>\n  <tbody>\n    <tr>\n      <th>0</th>\n      <td>1</td>\n      <td>NaN</td>\n      <td>NaN</td>\n      <td>Our Deeds are the Reason of this #earthquake M...</td>\n      <td>1</td>\n    </tr>\n    <tr>\n      <th>1</th>\n      <td>4</td>\n      <td>NaN</td>\n      <td>NaN</td>\n      <td>Forest fire near La Ronge Sask. Canada</td>\n      <td>1</td>\n    </tr>\n    <tr>\n      <th>2</th>\n      <td>5</td>\n      <td>NaN</td>\n      <td>NaN</td>\n      <td>All residents asked to 'shelter in place' are ...</td>\n      <td>1</td>\n    </tr>\n    <tr>\n      <th>3</th>\n      <td>6</td>\n      <td>NaN</td>\n      <td>NaN</td>\n      <td>13,000 people receive #wildfires evacuation or...</td>\n      <td>1</td>\n    </tr>\n    <tr>\n      <th>4</th>\n      <td>7</td>\n      <td>NaN</td>\n      <td>NaN</td>\n      <td>Just got sent this photo from Ruby #Alaska as ...</td>\n      <td>1</td>\n    </tr>\n  </tbody>\n</table>\n</div>"
     },
     "execution_count": 49,
     "metadata": {},
     "output_type": "execute_result"
    }
   ]
  },
  {
   "cell_type": "code",
   "execution_count": 50,
   "outputs": [],
   "source": [
    "df[\"keyword\"].fillna(\"None\", inplace=True)"
   ],
   "metadata": {
    "collapsed": false
   }
  },
  {
   "cell_type": "code",
   "source": "from torchtext.data.utils import get_tokenizer\nfrom torchtext.vocab import build_vocab_from_iterator\ntokenizer = get_tokenizer('spacy', language='en_core_web_sm')\n\n# create iterator from tokenized df\ndef df_iterator_content(df):\n    for _, row in df.iterrows():\n        yield tokenizer(row['text'])\n\nvocab = build_vocab_from_iterator(df_iterator_content(df), specials=[\"<unk>\"], min_freq=5)\nvocab.set_default_index(vocab[\"<unk>\"])\nvocab_size = len(vocab)\nprint(vocab_size)",
   "metadata": {
    "collapsed": false,
    "jupyter": {
     "outputs_hidden": false
    },
    "execution": {
     "iopub.status.busy": "2023-02-07T06:52:03.331601Z",
     "iopub.execute_input": "2023-02-07T06:52:03.332086Z",
     "iopub.status.idle": "2023-02-07T06:52:11.392427Z",
     "shell.execute_reply.started": "2023-02-07T06:52:03.332047Z",
     "shell.execute_reply": "2023-02-07T06:52:11.391213Z"
    },
    "trusted": true
   },
   "execution_count": 51,
   "outputs": [
    {
     "name": "stdout",
     "output_type": "stream",
     "text": [
      "3240\n"
     ]
    }
   ]
  },
  {
   "cell_type": "code",
   "execution_count": 52,
   "outputs": [
    {
     "name": "stdout",
     "output_type": "stream",
     "text": [
      "223\n"
     ]
    }
   ],
   "source": [
    "def df_iterator_keyword(df):\n",
    "    for _, row in df.iterrows():\n",
    "        yield tokenizer(row['keyword'])\n",
    "\n",
    "vocab_keyword = build_vocab_from_iterator(df_iterator_keyword(df), specials=[\"<unk>\"])\n",
    "vocab_keyword.set_default_index(vocab_keyword[\"<unk>\"])\n",
    "vocab_size_keyword = len(vocab_keyword)\n",
    "print(vocab_size_keyword)"
   ],
   "metadata": {
    "collapsed": false
   }
  },
  {
   "cell_type": "code",
   "source": [
    "import torch\n",
    "from torch.utils.data import Dataset\n",
    "\n",
    "device = torch.device(\"cuda\" if torch.cuda.is_available() else \"cpu\")\n",
    "\n",
    "class TwitterDisasterDataset(Dataset):\n",
    "    def __init__(self, df, word_count=500, vocab_size=10000, train=True):\n",
    "        self.df = df\n",
    "        self.word_count = word_count\n",
    "        self.vocab_size = vocab_size\n",
    "        self.train=train\n",
    "    def __len__(self):\n",
    "        return len(self.df)\n",
    "    def __getitem__(self, idx):\n",
    "        text= self.df.iloc[idx][\"text\"]\n",
    "        text = vocab(tokenizer(text))\n",
    "        if self.train:\n",
    "            y= self.df.iloc[idx][\"target\"]\n",
    "            y = int(y)\n",
    "        if len(text) > self.word_count:\n",
    "            text=text[:self.word_count]\n",
    "        else:\n",
    "            text.extend([0]*(self.word_count-len(text)))\n",
    "        text = torch.tensor(text)\n",
    "        keyword=self.df.iloc[idx][\"keyword\"]\n",
    "        keyword = vocab_keyword(tokenizer(keyword))\n",
    "        keyword = torch.tensor(keyword)\n",
    "\n",
    "        if self.train:\n",
    "            return (text.to(device), keyword.to(device)), torch.tensor(y).to(device)\n",
    "        else:\n",
    "            return (text.to(device), keyword.to(device))\n",
    "\n",
    "twitter_dataset = TwitterDisasterDataset(df, word_count=30, vocab_size=vocab_size)\n",
    "(text, keyword),y=twitter_dataset[23]\n",
    "print(text)\n",
    "print(keyword)\n",
    "print(y)"
   ],
   "metadata": {
    "collapsed": false,
    "jupyter": {
     "outputs_hidden": false
    },
    "execution": {
     "iopub.status.busy": "2023-02-07T06:52:11.394038Z",
     "iopub.execute_input": "2023-02-07T06:52:11.394739Z",
     "iopub.status.idle": "2023-02-07T06:52:19.341484Z",
     "shell.execute_reply.started": "2023-02-07T06:52:11.394699Z",
     "shell.execute_reply": "2023-02-07T06:52:19.340345Z"
    },
    "trusted": true
   },
   "execution_count": 53,
   "outputs": [
    {
     "name": "stdout",
     "output_type": "stream",
     "text": [
      "tensor([138,   6,   0, 119,  14,   0,   0,   0,   0,   0,   0,   0,   0,   0,\n",
      "          0,   0,   0,   0,   0,   0,   0,   0,   0,   0,   0,   0,   0,   0,\n",
      "          0,   0])\n",
      "tensor([1])\n",
      "tensor(0)\n"
     ]
    }
   ]
  },
  {
   "cell_type": "code",
   "source": [
    "from torch import nn\n",
    "import torch.nn.functional as F\n",
    "import numpy as np\n",
    "\n",
    "torch.manual_seed(1)\n",
    "\n",
    "class MyLSTM(nn.Module):\n",
    "\n",
    "    def __init__(self, text_embedding_dim, text_hidden_dim, vocab_size, out_size, word_count=50, dropout=0.2, num_layers=2, keyword_embedding_dim=16, hidden_layer_size=64):\n",
    "        super(MyLSTM, self).__init__()\n",
    "        self.hidden_dim = text_hidden_dim\n",
    "        self.text_embedding_dim=text_embedding_dim\n",
    "        self.text_embeddings = nn.Embedding(vocab_size, text_embedding_dim)\n",
    "        self.keyword_embeddings = nn.Embedding(vocab_size, keyword_embedding_dim)\n",
    "\n",
    "        # The LSTM takes word embeddings as inputs, and outputs hidden states\n",
    "        # with dimensionality hidden_dim.\n",
    "        self.lstm = nn.LSTM(text_embedding_dim, text_hidden_dim, batch_first=True, dropout=dropout, num_layers=num_layers)\n",
    "        self.dropout=nn.Dropout(p=dropout)\n",
    "\n",
    "        self.fc_lstm_to_merge = nn.Linear(text_hidden_dim * word_count, keyword_embedding_dim)\n",
    "        self.fc_merge_to_hidden = nn.Linear(keyword_embedding_dim*2, hidden_layer_size)\n",
    "        self.fc_hidden_to_out = nn.Linear(hidden_layer_size, out_size)\n",
    "\n",
    "    def forward(self, text_b, keyword_b, foo=None):\n",
    "        #print(\"xb shape\", xb.shape)\n",
    "        text_embeds = self.text_embeddings(text_b)\n",
    "        #print(\"embeds shape\", text_embeds.shape)\n",
    "        lstm_out, _ = self.lstm(text_embeds)\n",
    "        lstm_out=self.dropout(lstm_out)\n",
    "        #print(\"lstm_out shape\", lstm_out.shape)\n",
    "        lstm_out_view = lstm_out.reshape(text_b.shape[0], -1   )\n",
    "        #print(\"lstm_out_view shape\", lstm_out_view.shape)\n",
    "        lstm_to_merge = self.fc_lstm_to_merge(lstm_out_view)\n",
    "        #print(\"lstm_to_merge shape\", lstm_to_merge.shape)\n",
    "        keyword_embeds = self.keyword_embeddings(keyword_b)\n",
    "        #print(\"keyword_embeds shape\", keyword_embeds.shape)\n",
    "        keyword_embeds_view = keyword_embeds.reshape(text_b.shape[0], -1   )\n",
    "        #print(\"keyword_embeds_view shape\", keyword_embeds_view.shape)\n",
    "        merged = torch.cat((lstm_to_merge, keyword_embeds_view), dim=1)\n",
    "        #print(\"merged shape\", merged.shape)\n",
    "        merged = F.relu(merged)\n",
    "        merged = self.dropout(merged)\n",
    "        #print(\"merge shape\", merge.shape)\n",
    "        hidden = self.fc_merge_to_hidden(merged)\n",
    "        hidden = F.relu(hidden)\n",
    "        hidden = self.dropout(hidden)\n",
    "        output = self.fc_hidden_to_out(hidden)\n",
    "        output = F.log_softmax(output, dim=1)\n",
    "        #print(\"output shape\", output.shape)\n",
    "        return output"
   ],
   "metadata": {
    "collapsed": false,
    "jupyter": {
     "outputs_hidden": false
    },
    "execution": {
     "iopub.status.busy": "2023-02-07T06:52:19.343129Z",
     "iopub.execute_input": "2023-02-07T06:52:19.343504Z",
     "iopub.status.idle": "2023-02-07T06:52:19.353041Z",
     "shell.execute_reply.started": "2023-02-07T06:52:19.343467Z",
     "shell.execute_reply": "2023-02-07T06:52:19.351909Z"
    },
    "trusted": true
   },
   "execution_count": 88,
   "outputs": []
  },
  {
   "cell_type": "code",
   "source": [
    "from sklearn.metrics import f1_score\n",
    "\n",
    "def evaluate(model, dataloader):\n",
    "    model.eval()\n",
    "    y_true=[]\n",
    "    y_pred=[]\n",
    "    with torch.no_grad():\n",
    "        for idx, (xb, label) in enumerate(dataloader):\n",
    "            text, keyword = xb\n",
    "            predicted_label = model(text, keyword)\n",
    "            y_true.extend(label.cpu().numpy())\n",
    "            y_pred.extend(predicted_label.argmax(1).cpu().numpy())\n",
    "    return f1_score(y_true, y_pred)\n"
   ],
   "metadata": {
    "collapsed": false,
    "jupyter": {
     "outputs_hidden": false
    },
    "execution": {
     "iopub.status.busy": "2023-02-07T06:52:19.354784Z",
     "iopub.execute_input": "2023-02-07T06:52:19.355168Z",
     "iopub.status.idle": "2023-02-07T06:52:19.420499Z",
     "shell.execute_reply.started": "2023-02-07T06:52:19.355129Z",
     "shell.execute_reply": "2023-02-07T06:52:19.419546Z"
    },
    "trusted": true
   },
   "execution_count": 89,
   "outputs": []
  },
  {
   "cell_type": "code",
   "source": [
    "# Hyperparameter\n",
    "embed_dim = 128\n",
    "num_class = 2\n",
    "hidden_dim = 64\n",
    "word_count = 50\n",
    "EPOCHS = 10 # epoch\n",
    "LR = 0.01  # learning rate\n",
    "scheduler_patience=4\n",
    "scheduler_factor=0.2\n",
    "weight_decay=1e-4\n",
    "BATCH_SIZE = 64 # batch size for training\n",
    "dropout=0.7\n",
    "num_layers=2\n",
    "hidden_layer_size=64\n",
    "keyword_embedding_dim=16\n",
    "\n",
    "\n",
    "# check if model works\n",
    "model= MyLSTM(embed_dim, hidden_dim, vocab_size, num_class, word_count=word_count, dropout=dropout, num_layers=num_layers, hidden_layer_size=hidden_layer_size, keyword_embedding_dim=keyword_embedding_dim).to(device)\n",
    "dataset = TwitterDisasterDataset(df, word_count=word_count, vocab_size=vocab_size)\n",
    "loader = torch.utils.data.DataLoader(dataset, batch_size=5, shuffle=True)\n",
    "\n",
    "(text, keyword), yb = next(iter(loader))\n",
    "print(\"yb\", yb)\n",
    "print(\"xb text shape\", text.shape)\n",
    "print(\"xb keyword shape\", keyword.shape)\n",
    "model(text, keyword)"
   ],
   "metadata": {
    "collapsed": false,
    "jupyter": {
     "outputs_hidden": false
    },
    "execution": {
     "iopub.status.busy": "2023-02-07T06:52:19.421902Z",
     "iopub.execute_input": "2023-02-07T06:52:19.422601Z",
     "iopub.status.idle": "2023-02-07T06:52:21.300244Z",
     "shell.execute_reply.started": "2023-02-07T06:52:19.422564Z",
     "shell.execute_reply": "2023-02-07T06:52:21.299283Z"
    },
    "trusted": true
   },
   "execution_count": 91,
   "outputs": [
    {
     "name": "stdout",
     "output_type": "stream",
     "text": [
      "yb tensor([1, 0, 1, 0, 1])\n",
      "xb text shape torch.Size([5, 50])\n",
      "xb keyword shape torch.Size([5, 1])\n"
     ]
    },
    {
     "data": {
      "text/plain": "tensor([[-1.0398, -0.4362],\n        [-0.6683, -0.7186],\n        [-0.9212, -0.5076],\n        [-0.7961, -0.5998],\n        [-0.6999, -0.6865]], grad_fn=<LogSoftmaxBackward0>)"
     },
     "execution_count": 91,
     "metadata": {},
     "output_type": "execute_result"
    }
   ]
  },
  {
   "cell_type": "code",
   "execution_count": 92,
   "outputs": [
    {
     "name": "stderr",
     "output_type": "stream",
     "text": [
      "C:\\Users\\bernd\\anaconda3_neu\\envs\\torch_etc\\lib\\site-packages\\torch\\onnx\\symbolic_opset9.py:4315: UserWarning: Exporting a model to ONNX with a batch_size other than 1, with a variable length with LSTM can cause an error when running the ONNX model with a different batch size. Make sure to save the model with a batch size of 1, or define the initial states (h0/c0) as inputs of the model. \n",
      "  warnings.warn(\n",
      "C:\\Users\\bernd\\anaconda3_neu\\envs\\torch_etc\\lib\\site-packages\\torch\\onnx\\_internal\\jit_utils.py:258: UserWarning: The shape inference of prim::Constant type is missing, so it may result in wrong shape inference for the exported graph. Please consider adding it in symbolic function. (Triggered internally at C:\\cb\\pytorch_1000000000000\\work\\torch\\csrc\\jit\\passes\\onnx\\shape_type_inference.cpp:1888.)\n",
      "  _C._jit_pass_onnx_node_shape_type_inference(node, params_dict, opset_version)\n",
      "C:\\Users\\bernd\\anaconda3_neu\\envs\\torch_etc\\lib\\site-packages\\torch\\onnx\\utils.py:687: UserWarning: The shape inference of prim::Constant type is missing, so it may result in wrong shape inference for the exported graph. Please consider adding it in symbolic function. (Triggered internally at C:\\cb\\pytorch_1000000000000\\work\\torch\\csrc\\jit\\passes\\onnx\\shape_type_inference.cpp:1888.)\n",
      "  _C._jit_pass_onnx_graph_shape_type_inference(\n",
      "C:\\Users\\bernd\\anaconda3_neu\\envs\\torch_etc\\lib\\site-packages\\torch\\onnx\\utils.py:1178: UserWarning: The shape inference of prim::Constant type is missing, so it may result in wrong shape inference for the exported graph. Please consider adding it in symbolic function. (Triggered internally at C:\\cb\\pytorch_1000000000000\\work\\torch\\csrc\\jit\\passes\\onnx\\shape_type_inference.cpp:1888.)\n",
      "  _C._jit_pass_onnx_graph_shape_type_inference(\n"
     ]
    }
   ],
   "source": [
    "torch.onnx.export(model, (text, keyword), \"model.onnx\", input_names=[\"text\", \"keyword\"], output_names=[\"y_hat\"], verbose=True, opset_version=11)\n",
    "\n",
    "# visualize model with netron.app"
   ],
   "metadata": {
    "collapsed": false
   }
  },
  {
   "cell_type": "code",
   "source": [
    "# hyperparameter search\n",
    "from sklearn.model_selection import ParameterGrid\n",
    "\n",
    "param_grid = {\n",
    "    \"embed_dim\": [64, 128],\n",
    "    \"hidden_dim\": [64],\n",
    "    \"dropout\": [0.4, 0.7],\n",
    "    \"num_layers\": [2],\n",
    "    \"weight_decay\": [1e-6],\n",
    "    \"LR\": [0.01],\n",
    "    \"BATCH_SIZE\": [128],\n",
    "    \"hidden_layer_size\": [32, 64, 128],\n",
    "    \"keyword_embedding_dim\": [8, 16, 32],\n",
    "    \"word_count\": [50]\n",
    "}\n",
    "\n",
    "param_grid = ParameterGrid(param_grid)\n",
    "print(next(iter(param_grid)))\n",
    "print(len(param_grid))"
   ],
   "metadata": {
    "collapsed": false,
    "jupyter": {
     "outputs_hidden": false
    },
    "execution": {
     "iopub.status.busy": "2023-02-07T06:52:21.301603Z",
     "iopub.execute_input": "2023-02-07T06:52:21.302059Z",
     "iopub.status.idle": "2023-02-07T06:52:21.322230Z",
     "shell.execute_reply.started": "2023-02-07T06:52:21.302015Z",
     "shell.execute_reply": "2023-02-07T06:52:21.321064Z"
    },
    "trusted": true
   },
   "execution_count": 98,
   "outputs": [
    {
     "name": "stdout",
     "output_type": "stream",
     "text": [
      "{'BATCH_SIZE': 128, 'LR': 0.01, 'dropout': 0.4, 'embed_dim': 64, 'hidden_dim': 64, 'hidden_layer_size': 32, 'keyword_embedding_dim': 8, 'num_layers': 2, 'weight_decay': 1e-06, 'word_count': 50}\n",
      "36\n"
     ]
    }
   ]
  },
  {
   "cell_type": "code",
   "source": [
    "from sklearn.model_selection import StratifiedKFold\n",
    "\n",
    "def grid_search():\n",
    "\n",
    "    params_count={}\n",
    "    for params in param_grid:\n",
    "        for key, value in params.items():\n",
    "            param_str=key+\":\"+str(value)\n",
    "            if param_str not in params_count:\n",
    "                params_count[param_str]=1\n",
    "            else:\n",
    "                params_count[param_str]+=1\n",
    "    EPOCHS=10\n",
    "\n",
    "    # set all random seeds\n",
    "    torch.manual_seed(1)\n",
    "    np.random.seed(1)\n",
    "\n",
    "    k_fold = StratifiedKFold(n_splits=10, shuffle=True, random_state=42)\n",
    "    (gridsearch_portion_idx, test_idx) = next(iter(k_fold.split(df[\"text\"], df[\"target\"])))\n",
    "    grid_test_df=df.iloc[test_idx]\n",
    "    gridsearch_df=df.iloc[gridsearch_portion_idx]\n",
    "    test_dataset=TwitterDisasterDataset(grid_test_df, word_count=word_count, vocab_size=vocab_size)\n",
    "    test_dataloader = DataLoader(test_dataset, batch_size=BATCH_SIZE, shuffle=True)\n",
    "    k_fold_iter=iter(k_fold.split(gridsearch_df[\"text\"], gridsearch_df[\"target\"]))\n",
    "    (base_idx, split_portion_idx)=next(k_fold_iter)\n",
    "    base_df = df.iloc[base_idx]\n",
    "    split_portion_df = df.iloc[split_portion_idx]\n",
    "    train_dataset = TwitterDisasterDataset(split_portion_df, word_count=word_count, vocab_size=vocab_size)\n",
    "    train_dataloader = DataLoader(train_dataset, batch_size=BATCH_SIZE)\n",
    "    i=0\n",
    "    best_params_val=0\n",
    "    best_params=None\n",
    "    params_results={}\n",
    "    for params in param_grid:\n",
    "        i+=1\n",
    "        model = MyLSTM(params[\"embed_dim\"], params[\"hidden_dim\"], vocab_size, num_class, word_count=word_count, dropout=params[\"dropout\"], num_layers=params[\"num_layers\"]).to(device)\n",
    "        loss_func = torch.nn.CrossEntropyLoss()\n",
    "        optimizer = torch.optim.Adam(model.parameters(), lr=params[\"LR\"], weight_decay=params[\"weight_decay\"])\n",
    "        for epoch in range(EPOCHS):\n",
    "            model.train()\n",
    "            for idx, (xb, label) in enumerate(train_dataloader):\n",
    "                text, keyword = xb\n",
    "                predicted_label = model(text, keyword)\n",
    "                loss = loss_func(predicted_label, label)\n",
    "                optimizer.zero_grad()\n",
    "                loss.backward()\n",
    "                optimizer.step()\n",
    "        test_f1 = evaluate(model, test_dataloader)\n",
    "        print(f\"{i} / {len(param_grid)} params {params} Test f1 {test_f1}\")\n",
    "        with open(\"results.txt\", \"a\") as f:\n",
    "            f.write(f\"{i}: params {params} test f1 {test_f1} \\n\")\n",
    "        if test_f1 > best_params_val:\n",
    "            best_params_val = test_f1\n",
    "            best_params = params\n",
    "        for key, value in params.items():\n",
    "            param_str=key+\":\"+str(value)\n",
    "            if param_str not in params_results:\n",
    "                params_results[param_str]=test_f1\n",
    "            else:\n",
    "                params_results[param_str]+=test_f1\n",
    "\n",
    "    for key, value in params_results.items():\n",
    "        params_results[key]=params_results[key]/params_count[key]\n",
    "    return best_params, best_params_val, params_results\n",
    "\n",
    "best_params, best_params_val, params_results = grid_search()"
   ],
   "metadata": {
    "collapsed": false,
    "jupyter": {
     "outputs_hidden": false
    },
    "execution": {
     "iopub.status.busy": "2023-02-07T06:52:21.323790Z",
     "iopub.execute_input": "2023-02-07T06:52:21.324422Z",
     "iopub.status.idle": "2023-02-07T06:52:21.338970Z",
     "shell.execute_reply.started": "2023-02-07T06:52:21.324383Z",
     "shell.execute_reply": "2023-02-07T06:52:21.337844Z"
    },
    "trusted": true
   },
   "execution_count": 99,
   "outputs": [
    {
     "ename": "KeyboardInterrupt",
     "evalue": "",
     "output_type": "error",
     "traceback": [
      "\u001B[1;31m---------------------------------------------------------------------------\u001B[0m",
      "\u001B[1;31mKeyboardInterrupt\u001B[0m                         Traceback (most recent call last)",
      "Cell \u001B[1;32mIn[99], line 67\u001B[0m\n\u001B[0;32m     64\u001B[0m         params_results[key]\u001B[38;5;241m=\u001B[39mparams_results[key]\u001B[38;5;241m/\u001B[39mparams_count[key]\n\u001B[0;32m     65\u001B[0m     \u001B[38;5;28;01mreturn\u001B[39;00m best_params, best_params_val, params_results\n\u001B[1;32m---> 67\u001B[0m best_params, best_params_val, params_results \u001B[38;5;241m=\u001B[39m \u001B[43mgrid_search\u001B[49m\u001B[43m(\u001B[49m\u001B[43m)\u001B[49m\n",
      "Cell \u001B[1;32mIn[99], line 44\u001B[0m, in \u001B[0;36mgrid_search\u001B[1;34m()\u001B[0m\n\u001B[0;32m     42\u001B[0m \u001B[38;5;28;01mfor\u001B[39;00m idx, (xb, label) \u001B[38;5;129;01min\u001B[39;00m \u001B[38;5;28menumerate\u001B[39m(train_dataloader):\n\u001B[0;32m     43\u001B[0m     text, keyword \u001B[38;5;241m=\u001B[39m xb\n\u001B[1;32m---> 44\u001B[0m     predicted_label \u001B[38;5;241m=\u001B[39m \u001B[43mmodel\u001B[49m\u001B[43m(\u001B[49m\u001B[43mtext\u001B[49m\u001B[43m,\u001B[49m\u001B[43m \u001B[49m\u001B[43mkeyword\u001B[49m\u001B[43m)\u001B[49m\n\u001B[0;32m     45\u001B[0m     loss \u001B[38;5;241m=\u001B[39m loss_func(predicted_label, label)\n\u001B[0;32m     46\u001B[0m     optimizer\u001B[38;5;241m.\u001B[39mzero_grad()\n",
      "File \u001B[1;32m~\\anaconda3_neu\\envs\\torch_etc\\lib\\site-packages\\torch\\nn\\modules\\module.py:1194\u001B[0m, in \u001B[0;36mModule._call_impl\u001B[1;34m(self, *input, **kwargs)\u001B[0m\n\u001B[0;32m   1190\u001B[0m \u001B[38;5;66;03m# If we don't have any hooks, we want to skip the rest of the logic in\u001B[39;00m\n\u001B[0;32m   1191\u001B[0m \u001B[38;5;66;03m# this function, and just call forward.\u001B[39;00m\n\u001B[0;32m   1192\u001B[0m \u001B[38;5;28;01mif\u001B[39;00m \u001B[38;5;129;01mnot\u001B[39;00m (\u001B[38;5;28mself\u001B[39m\u001B[38;5;241m.\u001B[39m_backward_hooks \u001B[38;5;129;01mor\u001B[39;00m \u001B[38;5;28mself\u001B[39m\u001B[38;5;241m.\u001B[39m_forward_hooks \u001B[38;5;129;01mor\u001B[39;00m \u001B[38;5;28mself\u001B[39m\u001B[38;5;241m.\u001B[39m_forward_pre_hooks \u001B[38;5;129;01mor\u001B[39;00m _global_backward_hooks\n\u001B[0;32m   1193\u001B[0m         \u001B[38;5;129;01mor\u001B[39;00m _global_forward_hooks \u001B[38;5;129;01mor\u001B[39;00m _global_forward_pre_hooks):\n\u001B[1;32m-> 1194\u001B[0m     \u001B[38;5;28;01mreturn\u001B[39;00m forward_call(\u001B[38;5;241m*\u001B[39m\u001B[38;5;28minput\u001B[39m, \u001B[38;5;241m*\u001B[39m\u001B[38;5;241m*\u001B[39mkwargs)\n\u001B[0;32m   1195\u001B[0m \u001B[38;5;66;03m# Do not call functions when jit is used\u001B[39;00m\n\u001B[0;32m   1196\u001B[0m full_backward_hooks, non_full_backward_hooks \u001B[38;5;241m=\u001B[39m [], []\n",
      "Cell \u001B[1;32mIn[88], line 29\u001B[0m, in \u001B[0;36mMyLSTM.forward\u001B[1;34m(self, text_b, keyword_b, foo)\u001B[0m\n\u001B[0;32m     27\u001B[0m text_embeds \u001B[38;5;241m=\u001B[39m \u001B[38;5;28mself\u001B[39m\u001B[38;5;241m.\u001B[39mtext_embeddings(text_b)\n\u001B[0;32m     28\u001B[0m \u001B[38;5;66;03m#print(\"embeds shape\", text_embeds.shape)\u001B[39;00m\n\u001B[1;32m---> 29\u001B[0m lstm_out, _ \u001B[38;5;241m=\u001B[39m \u001B[38;5;28;43mself\u001B[39;49m\u001B[38;5;241;43m.\u001B[39;49m\u001B[43mlstm\u001B[49m\u001B[43m(\u001B[49m\u001B[43mtext_embeds\u001B[49m\u001B[43m)\u001B[49m\n\u001B[0;32m     30\u001B[0m lstm_out\u001B[38;5;241m=\u001B[39m\u001B[38;5;28mself\u001B[39m\u001B[38;5;241m.\u001B[39mdropout(lstm_out)\n\u001B[0;32m     31\u001B[0m \u001B[38;5;66;03m#print(\"lstm_out shape\", lstm_out.shape)\u001B[39;00m\n",
      "File \u001B[1;32m~\\anaconda3_neu\\envs\\torch_etc\\lib\\site-packages\\torch\\nn\\modules\\module.py:1194\u001B[0m, in \u001B[0;36mModule._call_impl\u001B[1;34m(self, *input, **kwargs)\u001B[0m\n\u001B[0;32m   1190\u001B[0m \u001B[38;5;66;03m# If we don't have any hooks, we want to skip the rest of the logic in\u001B[39;00m\n\u001B[0;32m   1191\u001B[0m \u001B[38;5;66;03m# this function, and just call forward.\u001B[39;00m\n\u001B[0;32m   1192\u001B[0m \u001B[38;5;28;01mif\u001B[39;00m \u001B[38;5;129;01mnot\u001B[39;00m (\u001B[38;5;28mself\u001B[39m\u001B[38;5;241m.\u001B[39m_backward_hooks \u001B[38;5;129;01mor\u001B[39;00m \u001B[38;5;28mself\u001B[39m\u001B[38;5;241m.\u001B[39m_forward_hooks \u001B[38;5;129;01mor\u001B[39;00m \u001B[38;5;28mself\u001B[39m\u001B[38;5;241m.\u001B[39m_forward_pre_hooks \u001B[38;5;129;01mor\u001B[39;00m _global_backward_hooks\n\u001B[0;32m   1193\u001B[0m         \u001B[38;5;129;01mor\u001B[39;00m _global_forward_hooks \u001B[38;5;129;01mor\u001B[39;00m _global_forward_pre_hooks):\n\u001B[1;32m-> 1194\u001B[0m     \u001B[38;5;28;01mreturn\u001B[39;00m forward_call(\u001B[38;5;241m*\u001B[39m\u001B[38;5;28minput\u001B[39m, \u001B[38;5;241m*\u001B[39m\u001B[38;5;241m*\u001B[39mkwargs)\n\u001B[0;32m   1195\u001B[0m \u001B[38;5;66;03m# Do not call functions when jit is used\u001B[39;00m\n\u001B[0;32m   1196\u001B[0m full_backward_hooks, non_full_backward_hooks \u001B[38;5;241m=\u001B[39m [], []\n",
      "File \u001B[1;32m~\\anaconda3_neu\\envs\\torch_etc\\lib\\site-packages\\torch\\nn\\modules\\rnn.py:774\u001B[0m, in \u001B[0;36mLSTM.forward\u001B[1;34m(self, input, hx)\u001B[0m\n\u001B[0;32m    772\u001B[0m \u001B[38;5;28mself\u001B[39m\u001B[38;5;241m.\u001B[39mcheck_forward_args(\u001B[38;5;28minput\u001B[39m, hx, batch_sizes)\n\u001B[0;32m    773\u001B[0m \u001B[38;5;28;01mif\u001B[39;00m batch_sizes \u001B[38;5;129;01mis\u001B[39;00m \u001B[38;5;28;01mNone\u001B[39;00m:\n\u001B[1;32m--> 774\u001B[0m     result \u001B[38;5;241m=\u001B[39m \u001B[43m_VF\u001B[49m\u001B[38;5;241;43m.\u001B[39;49m\u001B[43mlstm\u001B[49m\u001B[43m(\u001B[49m\u001B[38;5;28;43minput\u001B[39;49m\u001B[43m,\u001B[49m\u001B[43m \u001B[49m\u001B[43mhx\u001B[49m\u001B[43m,\u001B[49m\u001B[43m \u001B[49m\u001B[38;5;28;43mself\u001B[39;49m\u001B[38;5;241;43m.\u001B[39;49m\u001B[43m_flat_weights\u001B[49m\u001B[43m,\u001B[49m\u001B[43m \u001B[49m\u001B[38;5;28;43mself\u001B[39;49m\u001B[38;5;241;43m.\u001B[39;49m\u001B[43mbias\u001B[49m\u001B[43m,\u001B[49m\u001B[43m \u001B[49m\u001B[38;5;28;43mself\u001B[39;49m\u001B[38;5;241;43m.\u001B[39;49m\u001B[43mnum_layers\u001B[49m\u001B[43m,\u001B[49m\n\u001B[0;32m    775\u001B[0m \u001B[43m                      \u001B[49m\u001B[38;5;28;43mself\u001B[39;49m\u001B[38;5;241;43m.\u001B[39;49m\u001B[43mdropout\u001B[49m\u001B[43m,\u001B[49m\u001B[43m \u001B[49m\u001B[38;5;28;43mself\u001B[39;49m\u001B[38;5;241;43m.\u001B[39;49m\u001B[43mtraining\u001B[49m\u001B[43m,\u001B[49m\u001B[43m \u001B[49m\u001B[38;5;28;43mself\u001B[39;49m\u001B[38;5;241;43m.\u001B[39;49m\u001B[43mbidirectional\u001B[49m\u001B[43m,\u001B[49m\u001B[43m \u001B[49m\u001B[38;5;28;43mself\u001B[39;49m\u001B[38;5;241;43m.\u001B[39;49m\u001B[43mbatch_first\u001B[49m\u001B[43m)\u001B[49m\n\u001B[0;32m    776\u001B[0m \u001B[38;5;28;01melse\u001B[39;00m:\n\u001B[0;32m    777\u001B[0m     result \u001B[38;5;241m=\u001B[39m _VF\u001B[38;5;241m.\u001B[39mlstm(\u001B[38;5;28minput\u001B[39m, batch_sizes, hx, \u001B[38;5;28mself\u001B[39m\u001B[38;5;241m.\u001B[39m_flat_weights, \u001B[38;5;28mself\u001B[39m\u001B[38;5;241m.\u001B[39mbias,\n\u001B[0;32m    778\u001B[0m                       \u001B[38;5;28mself\u001B[39m\u001B[38;5;241m.\u001B[39mnum_layers, \u001B[38;5;28mself\u001B[39m\u001B[38;5;241m.\u001B[39mdropout, \u001B[38;5;28mself\u001B[39m\u001B[38;5;241m.\u001B[39mtraining, \u001B[38;5;28mself\u001B[39m\u001B[38;5;241m.\u001B[39mbidirectional)\n",
      "\u001B[1;31mKeyboardInterrupt\u001B[0m: "
     ]
    }
   ]
  },
  {
   "cell_type": "code",
   "source": [
    "hyperparams = {'BATCH_SIZE': 256,\n",
    " 'LR': 0.01,\n",
    " 'dropout': 0.4,\n",
    " 'embed_dim': 64,\n",
    " 'hidden_dim': 64,\n",
    " 'num_layers': 2,\n",
    " 'weight_decay': 0.0001}\n",
    "\n",
    "BATCH_SIZE=hyperparams[\"BATCH_SIZE\"]\n",
    "LR = hyperparams[\"LR\"]\n",
    "embed_dim = hyperparams[\"embed_dim\"]\n",
    "hidden_dim = hyperparams[\"hidden_dim\"]\n",
    "num_layers = hyperparams[\"num_layers\"]\n",
    "weight_decay = hyperparams[\"weight_decay\"]\n",
    "word_count = 30\n",
    "EPOCHS = 1\n",
    "scheduler_patience=4\n",
    "scheduler_factor=0.2"
   ],
   "metadata": {
    "execution": {
     "iopub.status.busy": "2023-02-07T06:52:21.371009Z",
     "iopub.execute_input": "2023-02-07T06:52:21.371373Z",
     "iopub.status.idle": "2023-02-07T06:52:21.378687Z",
     "shell.execute_reply.started": "2023-02-07T06:52:21.371345Z",
     "shell.execute_reply": "2023-02-07T06:52:21.377456Z"
    },
    "trusted": true
   },
   "execution_count": 15,
   "outputs": []
  },
  {
   "cell_type": "code",
   "source": "\n# create train and valid dataset\ntrain_dataset, valid_dataset = torch.utils.data.random_split(dataset, [int(len(dataset)*0.8), len(dataset)-int(len(dataset)*0.8)])\n\n# import torch DataLoader\nfrom torch.utils.data import DataLoader\n\nmodel = MyLSTM(embed_dim, hidden_dim, vocab_size, num_class, word_count=word_count, dropout=dropout).to(device)\n\ntrain_dataloader = DataLoader(train_dataset, batch_size=BATCH_SIZE)\n\nvalid_dataloader = DataLoader(valid_dataset, batch_size=BATCH_SIZE)\n\nloss_func = torch.nn.CrossEntropyLoss()\noptimizer = torch.optim.Adam(model.parameters(), lr=LR, weight_decay=weight_decay)\n# scheduler = torch.optim.lr_scheduler.StepLR(optimizer, lr_step_size, gamma=lr_gamma)   # every 10 epochs, LR is multiplied by 0.7\nscheduler = torch.optim.lr_scheduler.ReduceLROnPlateau(optimizer, factor=scheduler_factor, patience=scheduler_patience)\n\n",
   "metadata": {
    "collapsed": false,
    "jupyter": {
     "outputs_hidden": false
    },
    "execution": {
     "iopub.status.busy": "2023-02-07T06:52:21.380284Z",
     "iopub.execute_input": "2023-02-07T06:52:21.380912Z",
     "iopub.status.idle": "2023-02-07T06:52:21.395990Z",
     "shell.execute_reply.started": "2023-02-07T06:52:21.380875Z",
     "shell.execute_reply": "2023-02-07T06:52:21.395029Z"
    },
    "trusted": true
   },
   "execution_count": 16,
   "outputs": []
  },
  {
   "cell_type": "code",
   "source": [
    "import time\n",
    "total_accu = None\n",
    "train_accus=[]\n",
    "valid_accus=[]\n",
    "\n",
    "for epoch in range(1, EPOCHS + 1):\n",
    "    epoch_start_time = time.time()\n",
    "\n",
    "    model.train()\n",
    "    total_acc, total_count = 0, 0\n",
    "\n",
    "    for idx, (xb, label) in enumerate(train_dataloader):\n",
    "        text, keyword = xb\n",
    "        optimizer.zero_grad()\n",
    "        predicted_label = model(text, keyword)\n",
    "        loss = loss_func(predicted_label, label)\n",
    "        loss.backward()\n",
    "        # torch.nn.utils.clip_grad_norm_(model.parameters(), 0.1)\n",
    "        optimizer.step()\n",
    "\n",
    "    accu_train = evaluate(model, train_dataloader)\n",
    "    accu_valid = evaluate(model, valid_dataloader)\n",
    "    train_accus.append(accu_train)\n",
    "    valid_accus.append(accu_valid)\n",
    "    print('-' * 59)\n",
    "    print('| end of epoch {:3d} | time: {:5.2f}s | train f1 {:8.3f} | valid f1 {:8.3f} | lr: {:1.5f}'.format(\n",
    "        epoch,\n",
    "        time.time() - epoch_start_time,\n",
    "        accu_train,\n",
    "        accu_valid,\n",
    "        optimizer.param_groups[0]['lr']))\n",
    "\n",
    "    scheduler.step(accu_valid) # learning rate scheduler after each epoch\n",
    "\n",
    "import matplotlib.pyplot as plt\n",
    "plt.plot(train_accus, label='train_accu')\n",
    "plt.plot(valid_accus, label='valid_accu')\n",
    "plt.legend()\n",
    "plt.show()"
   ],
   "metadata": {
    "collapsed": false,
    "jupyter": {
     "outputs_hidden": false
    },
    "execution": {
     "iopub.status.busy": "2023-02-07T06:52:21.397656Z",
     "iopub.execute_input": "2023-02-07T06:52:21.398038Z",
     "iopub.status.idle": "2023-02-07T06:54:06.364280Z",
     "shell.execute_reply.started": "2023-02-07T06:52:21.398005Z",
     "shell.execute_reply": "2023-02-07T06:54:06.363292Z"
    },
    "trusted": true
   },
   "execution_count": 18,
   "outputs": [
    {
     "name": "stdout",
     "output_type": "stream",
     "text": [
      "-----------------------------------------------------------\n",
      "| end of epoch   1 | time: 43.79s | train f1    0.633 | valid f1    0.602 | lr: 0.01000\n"
     ]
    },
    {
     "data": {
      "text/plain": "<Figure size 640x480 with 1 Axes>",
      "image/png": "[encoded data removed]"
     },
     "metadata": {},
     "output_type": "display_data"
    }
   ]
  },
  {
   "cell_type": "code",
   "source": "df_test = pd.read_csv(test_csv)\ndf_test.head()",
   "metadata": {
    "collapsed": false,
    "jupyter": {
     "outputs_hidden": false
    },
    "execution": {
     "iopub.status.busy": "2023-02-07T06:54:06.366115Z",
     "iopub.execute_input": "2023-02-07T06:54:06.367048Z",
     "iopub.status.idle": "2023-02-07T06:54:06.391397Z",
     "shell.execute_reply.started": "2023-02-07T06:54:06.367004Z",
     "shell.execute_reply": "2023-02-07T06:54:06.390436Z"
    },
    "trusted": true
   },
   "execution_count": 18,
   "outputs": [
    {
     "execution_count": 18,
     "output_type": "execute_result",
     "data": {
      "text/plain": "   id keyword location                                               text\n0   0     NaN      NaN                 Just happened a terrible car crash\n1   2     NaN      NaN  Heard about #earthquake is different cities, s...\n2   3     NaN      NaN  there is a forest fire at spot pond, geese are...\n3   9     NaN      NaN           Apocalypse lighting. #Spokane #wildfires\n4  11     NaN      NaN      Typhoon Soudelor kills 28 in China and Taiwan",
      "text/html": "<div>\n<style scoped>\n    .dataframe tbody tr th:only-of-type {\n        vertical-align: middle;\n    }\n\n    .dataframe tbody tr th {\n        vertical-align: top;\n    }\n\n    .dataframe thead th {\n        text-align: right;\n    }\n</style>\n<table border=\"1\" class=\"dataframe\">\n  <thead>\n    <tr style=\"text-align: right;\">\n      <th></th>\n      <th>id</th>\n      <th>keyword</th>\n      <th>location</th>\n      <th>text</th>\n    </tr>\n  </thead>\n  <tbody>\n    <tr>\n      <th>0</th>\n      <td>0</td>\n      <td>NaN</td>\n      <td>NaN</td>\n      <td>Just happened a terrible car crash</td>\n    </tr>\n    <tr>\n      <th>1</th>\n      <td>2</td>\n      <td>NaN</td>\n      <td>NaN</td>\n      <td>Heard about #earthquake is different cities, s...</td>\n    </tr>\n    <tr>\n      <th>2</th>\n      <td>3</td>\n      <td>NaN</td>\n      <td>NaN</td>\n      <td>there is a forest fire at spot pond, geese are...</td>\n    </tr>\n    <tr>\n      <th>3</th>\n      <td>9</td>\n      <td>NaN</td>\n      <td>NaN</td>\n      <td>Apocalypse lighting. #Spokane #wildfires</td>\n    </tr>\n    <tr>\n      <th>4</th>\n      <td>11</td>\n      <td>NaN</td>\n      <td>NaN</td>\n      <td>Typhoon Soudelor kills 28 in China and Taiwan</td>\n    </tr>\n  </tbody>\n</table>\n</div>"
     },
     "metadata": {}
    }
   ]
  },
  {
   "cell_type": "code",
   "source": [
    "test_dataset = TwitterDisasterDataset(df_test, word_count=word_count, vocab_size=vocab_size, train=False)\n",
    "test_dataloader = DataLoader(test_dataset, batch_size=BATCH_SIZE)\n",
    "\n",
    "predictions=[]\n",
    "model.eval()\n",
    "with torch.no_grad():\n",
    "    for idx, xb in enumerate(test_dataloader):\n",
    "        text, keyword = xb\n",
    "        predicted_label = model(text, keyword)\n",
    "        predictions.append(predicted_label.argmax(1).cpu().numpy())\n",
    "        \n",
    "\n",
    "predictions=np.concatenate(predictions)\n",
    "print(predictions.shape)"
   ],
   "metadata": {
    "collapsed": false,
    "jupyter": {
     "outputs_hidden": false
    },
    "execution": {
     "iopub.status.busy": "2023-02-07T06:54:06.392595Z",
     "iopub.execute_input": "2023-02-07T06:54:06.393445Z",
     "iopub.status.idle": "2023-02-07T06:54:07.989447Z",
     "shell.execute_reply.started": "2023-02-07T06:54:06.393403Z",
     "shell.execute_reply": "2023-02-07T06:54:07.988289Z"
    },
    "trusted": true
   },
   "execution_count": 19,
   "outputs": [
    {
     "name": "stdout",
     "text": "(3263,)\n",
     "output_type": "stream"
    }
   ]
  },
  {
   "cell_type": "code",
   "source": "",
   "metadata": {},
   "execution_count": null,
   "outputs": []
  },
  {
   "cell_type": "code",
   "source": "len(predictions)",
   "metadata": {
    "execution": {
     "iopub.status.busy": "2023-02-07T06:54:07.990936Z",
     "iopub.execute_input": "2023-02-07T06:54:07.991414Z",
     "iopub.status.idle": "2023-02-07T06:54:07.998209Z",
     "shell.execute_reply.started": "2023-02-07T06:54:07.991374Z",
     "shell.execute_reply": "2023-02-07T06:54:07.997173Z"
    },
    "trusted": true
   },
   "execution_count": 20,
   "outputs": [
    {
     "execution_count": 20,
     "output_type": "execute_result",
     "data": {
      "text/plain": "3263"
     },
     "metadata": {}
    }
   ]
  },
  {
   "cell_type": "code",
   "source": "df_submission = pd.read_csv(submission_csv)\ndf_submission.head()",
   "metadata": {
    "collapsed": false,
    "jupyter": {
     "outputs_hidden": false
    },
    "execution": {
     "iopub.status.busy": "2023-02-07T06:54:07.999874Z",
     "iopub.execute_input": "2023-02-07T06:54:08.000569Z",
     "iopub.status.idle": "2023-02-07T06:54:08.016134Z",
     "shell.execute_reply.started": "2023-02-07T06:54:08.000523Z",
     "shell.execute_reply": "2023-02-07T06:54:08.014912Z"
    },
    "trusted": true
   },
   "execution_count": 21,
   "outputs": [
    {
     "execution_count": 21,
     "output_type": "execute_result",
     "data": {
      "text/plain": "   id  target\n0   0       0\n1   2       0\n2   3       0\n3   9       0\n4  11       0",
      "text/html": "<div>\n<style scoped>\n    .dataframe tbody tr th:only-of-type {\n        vertical-align: middle;\n    }\n\n    .dataframe tbody tr th {\n        vertical-align: top;\n    }\n\n    .dataframe thead th {\n        text-align: right;\n    }\n</style>\n<table border=\"1\" class=\"dataframe\">\n  <thead>\n    <tr style=\"text-align: right;\">\n      <th></th>\n      <th>id</th>\n      <th>target</th>\n    </tr>\n  </thead>\n  <tbody>\n    <tr>\n      <th>0</th>\n      <td>0</td>\n      <td>0</td>\n    </tr>\n    <tr>\n      <th>1</th>\n      <td>2</td>\n      <td>0</td>\n    </tr>\n    <tr>\n      <th>2</th>\n      <td>3</td>\n      <td>0</td>\n    </tr>\n    <tr>\n      <th>3</th>\n      <td>9</td>\n      <td>0</td>\n    </tr>\n    <tr>\n      <th>4</th>\n      <td>11</td>\n      <td>0</td>\n    </tr>\n  </tbody>\n</table>\n</div>"
     },
     "metadata": {}
    }
   ]
  },
  {
   "cell_type": "code",
   "source": "df_submission[\"target\"] = predictions\ndf_submission.head()",
   "metadata": {
    "collapsed": false,
    "jupyter": {
     "outputs_hidden": false
    },
    "execution": {
     "iopub.status.busy": "2023-02-07T06:54:08.017956Z",
     "iopub.execute_input": "2023-02-07T06:54:08.018357Z",
     "iopub.status.idle": "2023-02-07T06:54:08.030100Z",
     "shell.execute_reply.started": "2023-02-07T06:54:08.018321Z",
     "shell.execute_reply": "2023-02-07T06:54:08.028748Z"
    },
    "trusted": true
   },
   "execution_count": 22,
   "outputs": [
    {
     "execution_count": 22,
     "output_type": "execute_result",
     "data": {
      "text/plain": "   id  target\n0   0       1\n1   2       1\n2   3       1\n3   9       0\n4  11       1",
      "text/html": "<div>\n<style scoped>\n    .dataframe tbody tr th:only-of-type {\n        vertical-align: middle;\n    }\n\n    .dataframe tbody tr th {\n        vertical-align: top;\n    }\n\n    .dataframe thead th {\n        text-align: right;\n    }\n</style>\n<table border=\"1\" class=\"dataframe\">\n  <thead>\n    <tr style=\"text-align: right;\">\n      <th></th>\n      <th>id</th>\n      <th>target</th>\n    </tr>\n  </thead>\n  <tbody>\n    <tr>\n      <th>0</th>\n      <td>0</td>\n      <td>1</td>\n    </tr>\n    <tr>\n      <th>1</th>\n      <td>2</td>\n      <td>1</td>\n    </tr>\n    <tr>\n      <th>2</th>\n      <td>3</td>\n      <td>1</td>\n    </tr>\n    <tr>\n      <th>3</th>\n      <td>9</td>\n      <td>0</td>\n    </tr>\n    <tr>\n      <th>4</th>\n      <td>11</td>\n      <td>1</td>\n    </tr>\n  </tbody>\n</table>\n</div>"
     },
     "metadata": {}
    }
   ]
  },
  {
   "cell_type": "code",
   "source": "df_submission.to_csv(\"submission.csv\", index=False)",
   "metadata": {
    "collapsed": false,
    "jupyter": {
     "outputs_hidden": false
    },
    "execution": {
     "iopub.status.busy": "2023-02-07T06:54:08.032254Z",
     "iopub.execute_input": "2023-02-07T06:54:08.032715Z",
     "iopub.status.idle": "2023-02-07T06:54:08.044333Z",
     "shell.execute_reply.started": "2023-02-07T06:54:08.032659Z",
     "shell.execute_reply": "2023-02-07T06:54:08.043330Z"
    },
    "trusted": true
   },
   "execution_count": 23,
   "outputs": []
  },
  {
   "cell_type": "code",
   "source": "df_submission.describe()",
   "metadata": {
    "collapsed": false,
    "jupyter": {
     "outputs_hidden": false
    },
    "execution": {
     "iopub.status.busy": "2023-02-07T06:54:08.045909Z",
     "iopub.execute_input": "2023-02-07T06:54:08.046555Z",
     "iopub.status.idle": "2023-02-07T06:54:08.073038Z",
     "shell.execute_reply.started": "2023-02-07T06:54:08.046516Z",
     "shell.execute_reply": "2023-02-07T06:54:08.071293Z"
    },
    "trusted": true
   },
   "execution_count": 24,
   "outputs": [
    {
     "execution_count": 24,
     "output_type": "execute_result",
     "data": {
      "text/plain": "                 id       target\ncount   3263.000000  3263.000000\nmean    5427.152927     0.393196\nstd     3146.427221     0.488535\nmin        0.000000     0.000000\n25%     2683.000000     0.000000\n50%     5500.000000     0.000000\n75%     8176.000000     1.000000\nmax    10875.000000     1.000000",
      "text/html": "<div>\n<style scoped>\n    .dataframe tbody tr th:only-of-type {\n        vertical-align: middle;\n    }\n\n    .dataframe tbody tr th {\n        vertical-align: top;\n    }\n\n    .dataframe thead th {\n        text-align: right;\n    }\n</style>\n<table border=\"1\" class=\"dataframe\">\n  <thead>\n    <tr style=\"text-align: right;\">\n      <th></th>\n      <th>id</th>\n      <th>target</th>\n    </tr>\n  </thead>\n  <tbody>\n    <tr>\n      <th>count</th>\n      <td>3263.000000</td>\n      <td>3263.000000</td>\n    </tr>\n    <tr>\n      <th>mean</th>\n      <td>5427.152927</td>\n      <td>0.393196</td>\n    </tr>\n    <tr>\n      <th>std</th>\n      <td>3146.427221</td>\n      <td>0.488535</td>\n    </tr>\n    <tr>\n      <th>min</th>\n      <td>0.000000</td>\n      <td>0.000000</td>\n    </tr>\n    <tr>\n      <th>25%</th>\n      <td>2683.000000</td>\n      <td>0.000000</td>\n    </tr>\n    <tr>\n      <th>50%</th>\n      <td>5500.000000</td>\n      <td>0.000000</td>\n    </tr>\n    <tr>\n      <th>75%</th>\n      <td>8176.000000</td>\n      <td>1.000000</td>\n    </tr>\n    <tr>\n      <th>max</th>\n      <td>10875.000000</td>\n      <td>1.000000</td>\n    </tr>\n  </tbody>\n</table>\n</div>"
     },
     "metadata": {}
    }
   ]
  },
  {
   "cell_type": "code",
   "source": "",
   "metadata": {},
   "execution_count": null,
   "outputs": []
  }
 ]
}
