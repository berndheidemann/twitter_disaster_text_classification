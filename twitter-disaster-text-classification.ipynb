{
 "metadata": {
  "kernelspec": {
   "display_name": "Python 3",
   "language": "python",
   "name": "python3"
  },
  "language_info": {
   "name": "python",
   "version": "3.7.12",
   "mimetype": "text/x-python",
   "codemirror_mode": {
    "name": "ipython",
    "version": 3
   },
   "pygments_lexer": "ipython3",
   "nbconvert_exporter": "python",
   "file_extension": ".py"
  }
 },
 "nbformat_minor": 4,
 "nbformat": 4,
 "cells": [
  {
   "cell_type": "code",
   "source": "# https://www.kaggle.com/competitions/nlp-getting-started\n\n!python -m spacy download en_core_web_sm",
   "metadata": {
    "collapsed": false,
    "jupyter": {
     "outputs_hidden": false
    },
    "trusted": true
   },
   "execution_count": null,
   "outputs": []
  },
  {
   "cell_type": "code",
   "source": "!git clone https://github.com/berndheidemann/twitter_disaster_text_classification.git",
   "metadata": {
    "execution": {
     "iopub.status.busy": "2023-02-07T06:52:01.314377Z",
     "iopub.execute_input": "2023-02-07T06:52:01.314786Z",
     "iopub.status.idle": "2023-02-07T06:52:03.265742Z",
     "shell.execute_reply.started": "2023-02-07T06:52:01.314743Z",
     "shell.execute_reply": "2023-02-07T06:52:03.264320Z"
    },
    "trusted": true
   },
   "execution_count": 3,
   "outputs": [
    {
     "name": "stdout",
     "text": "Cloning into 'twitter_disaster_text_classification'...\nremote: Enumerating objects: 25, done.\u001B[K\nremote: Counting objects: 100% (25/25), done.\u001B[K\nremote: Compressing objects: 100% (19/19), done.\u001B[K\nremote: Total 25 (delta 9), reused 19 (delta 6), pack-reused 0\u001B[K\nUnpacking objects: 100% (25/25), 625.06 KiB | 2.35 MiB/s, done.\n",
     "output_type": "stream"
    }
   ]
  },
  {
   "cell_type": "code",
   "source": [
    "import pandas as pd\n",
    "\n",
    "path=\"./\"\n",
    "#path=\"/kaggle/working/twitter_disaster_text_classification/\"\n",
    "train_csv=path+\"train.csv\"\n",
    "test_csv=path+\"test.csv\"\n",
    "submission_csv=path+\"sample_submission.csv\"\n",
    "\n",
    "df = pd.read_csv(train_csv)\n",
    "df.head()"
   ],
   "metadata": {
    "collapsed": false,
    "jupyter": {
     "outputs_hidden": false
    },
    "execution": {
     "iopub.status.busy": "2023-02-07T06:52:03.267830Z",
     "iopub.execute_input": "2023-02-07T06:52:03.268227Z",
     "iopub.status.idle": "2023-02-07T06:52:03.318312Z",
     "shell.execute_reply.started": "2023-02-07T06:52:03.268187Z",
     "shell.execute_reply": "2023-02-07T06:52:03.317336Z"
    },
    "trusted": true
   },
   "execution_count": 38,
   "outputs": [
    {
     "data": {
      "text/plain": "   id keyword location                                               text  \\\n0   1     NaN      NaN  Our Deeds are the Reason of this #earthquake M...   \n1   4     NaN      NaN             Forest fire near La Ronge Sask. Canada   \n2   5     NaN      NaN  All residents asked to 'shelter in place' are ...   \n3   6     NaN      NaN  13,000 people receive #wildfires evacuation or...   \n4   7     NaN      NaN  Just got sent this photo from Ruby #Alaska as ...   \n\n   target  \n0       1  \n1       1  \n2       1  \n3       1  \n4       1  ",
      "text/html": "<div>\n<style scoped>\n    .dataframe tbody tr th:only-of-type {\n        vertical-align: middle;\n    }\n\n    .dataframe tbody tr th {\n        vertical-align: top;\n    }\n\n    .dataframe thead th {\n        text-align: right;\n    }\n</style>\n<table border=\"1\" class=\"dataframe\">\n  <thead>\n    <tr style=\"text-align: right;\">\n      <th></th>\n      <th>id</th>\n      <th>keyword</th>\n      <th>location</th>\n      <th>text</th>\n      <th>target</th>\n    </tr>\n  </thead>\n  <tbody>\n    <tr>\n      <th>0</th>\n      <td>1</td>\n      <td>NaN</td>\n      <td>NaN</td>\n      <td>Our Deeds are the Reason of this #earthquake M...</td>\n      <td>1</td>\n    </tr>\n    <tr>\n      <th>1</th>\n      <td>4</td>\n      <td>NaN</td>\n      <td>NaN</td>\n      <td>Forest fire near La Ronge Sask. Canada</td>\n      <td>1</td>\n    </tr>\n    <tr>\n      <th>2</th>\n      <td>5</td>\n      <td>NaN</td>\n      <td>NaN</td>\n      <td>All residents asked to 'shelter in place' are ...</td>\n      <td>1</td>\n    </tr>\n    <tr>\n      <th>3</th>\n      <td>6</td>\n      <td>NaN</td>\n      <td>NaN</td>\n      <td>13,000 people receive #wildfires evacuation or...</td>\n      <td>1</td>\n    </tr>\n    <tr>\n      <th>4</th>\n      <td>7</td>\n      <td>NaN</td>\n      <td>NaN</td>\n      <td>Just got sent this photo from Ruby #Alaska as ...</td>\n      <td>1</td>\n    </tr>\n  </tbody>\n</table>\n</div>"
     },
     "execution_count": 38,
     "metadata": {},
     "output_type": "execute_result"
    }
   ]
  },
  {
   "cell_type": "code",
   "source": "len(df)",
   "metadata": {
    "collapsed": false,
    "jupyter": {
     "outputs_hidden": false
    },
    "execution": {
     "iopub.status.busy": "2023-02-07T06:52:03.320046Z",
     "iopub.execute_input": "2023-02-07T06:52:03.320446Z",
     "iopub.status.idle": "2023-02-07T06:52:03.328600Z",
     "shell.execute_reply.started": "2023-02-07T06:52:03.320408Z",
     "shell.execute_reply": "2023-02-07T06:52:03.327510Z"
    },
    "trusted": true
   },
   "execution_count": 39,
   "outputs": [
    {
     "data": {
      "text/plain": "7613"
     },
     "execution_count": 39,
     "metadata": {},
     "output_type": "execute_result"
    }
   ]
  },
  {
   "cell_type": "code",
   "source": "from torchtext.data.utils import get_tokenizer\nfrom torchtext.vocab import build_vocab_from_iterator\ntokenizer = get_tokenizer('spacy', language='en_core_web_sm')\n\n# create iterator from tokenized df\ndef df_iterator_content(df):\n    for _, row in df.iterrows():\n        yield tokenizer(row['text'])\n\nvocab = build_vocab_from_iterator(df_iterator_content(df), specials=[\"<unk>\"], min_freq=5)\nvocab.set_default_index(vocab[\"<unk>\"])\nvocab_size = len(vocab)\nprint(vocab_size)",
   "metadata": {
    "collapsed": false,
    "jupyter": {
     "outputs_hidden": false
    },
    "execution": {
     "iopub.status.busy": "2023-02-07T06:52:03.331601Z",
     "iopub.execute_input": "2023-02-07T06:52:03.332086Z",
     "iopub.status.idle": "2023-02-07T06:52:11.392427Z",
     "shell.execute_reply.started": "2023-02-07T06:52:03.332047Z",
     "shell.execute_reply": "2023-02-07T06:52:11.391213Z"
    },
    "trusted": true
   },
   "execution_count": 40,
   "outputs": [
    {
     "name": "stdout",
     "output_type": "stream",
     "text": [
      "3240\n"
     ]
    }
   ]
  },
  {
   "cell_type": "code",
   "source": "import torch\nfrom torch.utils.data import Dataset\n\ndevice = torch.device(\"cuda\" if torch.cuda.is_available() else \"cpu\")\n\nclass TwitterDisasterDataset(Dataset):\n    def __init__(self, df, word_count=500, vocab_size=10000, train=True):\n        self.df = df\n        self.word_count = word_count\n        self.vocab_size = vocab_size\n        self.train=train\n    def __len__(self):\n        return len(self.df)\n    def __getitem__(self, idx):\n        x= self.df.iloc[idx][\"text\"]\n        x = vocab(tokenizer(x))\n        if self.train:\n            y= self.df.iloc[idx][\"target\"]\n            y = int(y)\n        if len(x) > self.word_count:\n            x=x[:self.word_count]\n        else:\n            x.extend([0]*(self.word_count-len(x)))\n        x = torch.tensor(x)\n        if self.train:\n            return x.to(device), torch.tensor(y).to(device)\n        else:\n            return x.to(device)\n\ntwitter_dataset = TwitterDisasterDataset(df, word_count=30, vocab_size=vocab_size)\nx,y=twitter_dataset[0]\nprint(x.shape)\nprint(y)",
   "metadata": {
    "collapsed": false,
    "jupyter": {
     "outputs_hidden": false
    },
    "execution": {
     "iopub.status.busy": "2023-02-07T06:52:11.394038Z",
     "iopub.execute_input": "2023-02-07T06:52:11.394739Z",
     "iopub.status.idle": "2023-02-07T06:52:19.341484Z",
     "shell.execute_reply.started": "2023-02-07T06:52:11.394699Z",
     "shell.execute_reply": "2023-02-07T06:52:19.340345Z"
    },
    "trusted": true
   },
   "execution_count": 41,
   "outputs": [
    {
     "name": "stdout",
     "output_type": "stream",
     "text": [
      "torch.Size([30])\n",
      "tensor(1)\n"
     ]
    }
   ]
  },
  {
   "cell_type": "code",
   "source": "from torch import nn\nimport torch.nn.functional as F\nimport torch.optim as optim\nimport numpy as np\n\ntorch.manual_seed(1)\n\nclass MyLSTM(nn.Module):\n\n    def __init__(self, embedding_dim, hidden_dim, vocab_size, out_size, word_count=50, dropout=0.2, num_layers=2):\n        super(MyLSTM, self).__init__()\n        self.hidden_dim = hidden_dim\n        self.embedding_dim=embedding_dim\n        self.word_embeddings = nn.Embedding(vocab_size, embedding_dim)\n\n        # The LSTM takes word embeddings as inputs, and outputs hidden states\n        # with dimensionality hidden_dim.\n        self.lstm = nn.LSTM(embedding_dim, hidden_dim, batch_first=True, dropout=dropout, num_layers=num_layers)\n        self.dropout=nn.Dropout(p=dropout)\n        # The linear layer that maps from hidden state space to output space\n        self.hidden2output = nn.Linear(hidden_dim*word_count, out_size)\n\n    def forward(self, xb):\n        #print(\"xb shape\", xb.shape)\n        embeds = self.word_embeddings(xb)\n        #print(\"embeds shape\", embeds.shape)\n        lstm_out, _ = self.lstm(embeds)\n        lstm_out=self.dropout(lstm_out)\n        #print(\"lstm_out shape\", lstm_out.shape)\n        # lstm_out_view = lstm_out[:, -1, :]   # works but looses information\n        lstm_out_view = lstm_out.reshape(xb.shape[0], -1   )\n        #print(\"lstm_out_view shape\", lstm_out_view.shape)\n        hidden_space = self.hidden2output(lstm_out_view)\n        #print(\"hidden_space shape\", hidden_space.shape)\n        output = F.log_softmax(hidden_space, dim=1)\n        #print(\"output shape\", output.shape)\n        return output",
   "metadata": {
    "collapsed": false,
    "jupyter": {
     "outputs_hidden": false
    },
    "execution": {
     "iopub.status.busy": "2023-02-07T06:52:19.343129Z",
     "iopub.execute_input": "2023-02-07T06:52:19.343504Z",
     "iopub.status.idle": "2023-02-07T06:52:19.353041Z",
     "shell.execute_reply.started": "2023-02-07T06:52:19.343467Z",
     "shell.execute_reply": "2023-02-07T06:52:19.351909Z"
    },
    "trusted": true
   },
   "execution_count": 42,
   "outputs": []
  },
  {
   "cell_type": "code",
   "source": "from sklearn.metrics import f1_score\n\ndef evaluate(model, dataloader):\n    model.eval()\n    y_true=[]\n    y_pred=[]\n    with torch.no_grad():\n        for idx, (text, label) in enumerate(dataloader):\n            predicted_label = model(text)\n            y_true.extend(label.cpu().numpy())\n            y_pred.extend(predicted_label.argmax(1).cpu().numpy())\n    return f1_score(y_true, y_pred)\n",
   "metadata": {
    "collapsed": false,
    "jupyter": {
     "outputs_hidden": false
    },
    "execution": {
     "iopub.status.busy": "2023-02-07T06:52:19.354784Z",
     "iopub.execute_input": "2023-02-07T06:52:19.355168Z",
     "iopub.status.idle": "2023-02-07T06:52:19.420499Z",
     "shell.execute_reply.started": "2023-02-07T06:52:19.355129Z",
     "shell.execute_reply": "2023-02-07T06:52:19.419546Z"
    },
    "trusted": true
   },
   "execution_count": 43,
   "outputs": []
  },
  {
   "cell_type": "code",
   "source": "# Hyperparameter\nembed_dim = 128\nnum_class = 2\nhidden_dim = 64\nword_count = 30\nEPOCHS = 10 # epoch\nLR = 0.01  # learning rate\nscheduler_patience=4\nscheduler_factor=0.2\nweight_decay=1e-4\nBATCH_SIZE = 64 # batch size for training\ndropout=0.7\nnum_layers=5\n\n# check if model works\nmodel= MyLSTM(embed_dim, hidden_dim, vocab_size, num_class, word_count=word_count, dropout=dropout, num_layers=num_layers).to(device)\ndataset = TwitterDisasterDataset(df, word_count=word_count, vocab_size=vocab_size)\nloader = torch.utils.data.DataLoader(dataset, batch_size=5, shuffle=True)\n\nxb, yb = next(iter(loader))\nprint(\"yb\", yb)\nprint(\"xb\", xb.shape)\nmodel(xb)",
   "metadata": {
    "collapsed": false,
    "jupyter": {
     "outputs_hidden": false
    },
    "execution": {
     "iopub.status.busy": "2023-02-07T06:52:19.421902Z",
     "iopub.execute_input": "2023-02-07T06:52:19.422601Z",
     "iopub.status.idle": "2023-02-07T06:52:21.300244Z",
     "shell.execute_reply.started": "2023-02-07T06:52:19.422564Z",
     "shell.execute_reply": "2023-02-07T06:52:21.299283Z"
    },
    "trusted": true
   },
   "execution_count": 44,
   "outputs": [
    {
     "name": "stdout",
     "output_type": "stream",
     "text": [
      "yb tensor([1, 0, 0, 1, 0])\n",
      "xb torch.Size([5, 30])\n"
     ]
    },
    {
     "data": {
      "text/plain": "tensor([[-0.7228, -0.6644],\n        [-0.7330, -0.6548],\n        [-0.7458, -0.6432],\n        [-0.6763, -0.7103],\n        [-0.7099, -0.6766]], grad_fn=<LogSoftmaxBackward0>)"
     },
     "execution_count": 44,
     "metadata": {},
     "output_type": "execute_result"
    }
   ]
  },
  {
   "cell_type": "code",
   "source": "# hyperparameter search\nfrom sklearn.model_selection import ParameterGrid\n\nparam_grid = {\n    \"embed_dim\": [64, 128],\n    \"hidden_dim\": [64, 128],\n    \"dropout\": [0.4, 0.7],\n    \"num_layers\": [2, 5],\n    \"weight_decay\": [1e-4, 1e-6],\n    \"LR\": [0.01, 0.001],\n    \"BATCH_SIZE\": [64, 256]\n}\n\nparam_grid = ParameterGrid(param_grid)\n\nprint(next(iter(param_grid)))\nprint(len(param_grid))",
   "metadata": {
    "collapsed": false,
    "jupyter": {
     "outputs_hidden": false
    },
    "execution": {
     "iopub.status.busy": "2023-02-07T06:52:21.301603Z",
     "iopub.execute_input": "2023-02-07T06:52:21.302059Z",
     "iopub.status.idle": "2023-02-07T06:52:21.322230Z",
     "shell.execute_reply.started": "2023-02-07T06:52:21.302015Z",
     "shell.execute_reply": "2023-02-07T06:52:21.321064Z"
    },
    "trusted": true
   },
   "execution_count": 45,
   "outputs": [
    {
     "name": "stdout",
     "output_type": "stream",
     "text": [
      "{'BATCH_SIZE': 64, 'LR': 0.01, 'dropout': 0.4, 'embed_dim': 64, 'hidden_dim': 64, 'num_layers': 2, 'weight_decay': 0.0001}\n",
      "128\n"
     ]
    }
   ]
  },
  {
   "cell_type": "code",
   "source": [
    "from sklearn.model_selection import StratifiedKFold\n",
    "import time\n",
    "from tqdm import tqdm\n",
    "from torch.utils.data import DataLoader\n",
    "\n",
    "\n",
    "def grid_search():\n",
    "\n",
    "    params_count={}\n",
    "    for params in param_grid:\n",
    "        for key, value in params.items():\n",
    "            param_str=key+\":\"+str(value)\n",
    "            if param_str not in params_count:\n",
    "                params_count[param_str]=1\n",
    "            else:\n",
    "                params_count[param_str]+=1\n",
    "    EPOCHS=10\n",
    "\n",
    "    # set all random seeds\n",
    "    torch.manual_seed(1)\n",
    "    np.random.seed(1)\n",
    "\n",
    "    k_fold = StratifiedKFold(n_splits=10, shuffle=True, random_state=42)\n",
    "    (gridsearch_portion_idx, test_idx) = next(iter(k_fold.split(df[\"text\"], df[\"target\"])))\n",
    "    grid_test_df=df.iloc[test_idx]\n",
    "    gridsearch_df=df.iloc[gridsearch_portion_idx]\n",
    "    test_dataset=TwitterDisasterDataset(grid_test_df, word_count=word_count, vocab_size=vocab_size)\n",
    "    test_dataloader = DataLoader(test_dataset, batch_size=BATCH_SIZE, shuffle=True)\n",
    "    k_fold_iter=iter(k_fold.split(gridsearch_df[\"text\"], gridsearch_df[\"target\"]))\n",
    "    (base_idx, split_portion_idx)=next(k_fold_iter)\n",
    "    base_df = df.iloc[base_idx]\n",
    "    split_portion_df = df.iloc[split_portion_idx]\n",
    "    train_dataset = TwitterDisasterDataset(split_portion_df, word_count=word_count, vocab_size=vocab_size)\n",
    "    train_dataloader = DataLoader(train_dataset, batch_size=BATCH_SIZE)\n",
    "    i=0\n",
    "    best_params_val=0\n",
    "    best_params=None\n",
    "    params_results={}\n",
    "    for params in param_grid:\n",
    "        i+=1\n",
    "        model = MyLSTM(params[\"embed_dim\"], params[\"hidden_dim\"], vocab_size, num_class, word_count=word_count, dropout=params[\"dropout\"], num_layers=params[\"num_layers\"]).to(device)\n",
    "        loss_func = torch.nn.CrossEntropyLoss()\n",
    "        optimizer = torch.optim.Adam(model.parameters(), lr=params[\"LR\"], weight_decay=params[\"weight_decay\"])\n",
    "        for epoch in range(EPOCHS):\n",
    "            model.train()\n",
    "            for idx, (text, label) in enumerate(train_dataloader):\n",
    "                predicted_label = model(text)\n",
    "                loss = loss_func(predicted_label, label)\n",
    "                optimizer.zero_grad()\n",
    "                loss.backward()\n",
    "                optimizer.step()\n",
    "        test_f1 = evaluate(model, test_dataloader)\n",
    "        print(f\"{i} / {len(param_grid)} params {params} Test f1 {test_f1}\")\n",
    "        with open(\"results.txt\", \"a\") as f:\n",
    "            f.write(f\"{i}: params {params} test f1 {test_f1} \\n\")\n",
    "        if test_f1 > best_params_val:\n",
    "            best_params_val = test_f1\n",
    "            best_params = params\n",
    "        param_str=key+\":\"+str(value)\n",
    "        if param_str not in params_results:\n",
    "            params_results[param_str]=test_f1\n",
    "        else:\n",
    "            params_count[param_str]+=test_f1\n",
    "\n",
    "    for key, value in params_results:\n",
    "        params_results[key]=params_results[value]/params_count[key]\n",
    "    return best_params, best_params_val, params_results\n",
    "            \n",
    "best_params, best_params_val, params_results = grid_search()"
   ],
   "metadata": {
    "collapsed": false,
    "jupyter": {
     "outputs_hidden": false
    },
    "execution": {
     "iopub.status.busy": "2023-02-07T06:52:21.323790Z",
     "iopub.execute_input": "2023-02-07T06:52:21.324422Z",
     "iopub.status.idle": "2023-02-07T06:52:21.338970Z",
     "shell.execute_reply.started": "2023-02-07T06:52:21.324383Z",
     "shell.execute_reply": "2023-02-07T06:52:21.337844Z"
    },
    "trusted": true
   },
   "execution_count": 49,
   "outputs": [
    {
     "name": "stdout",
     "output_type": "stream",
     "text": [
      "{'BATCH_SIZE:64': 64, 'LR:0.01': 64, 'dropout:0.4': 64, 'embed_dim:64': 64, 'hidden_dim:64': 64, 'num_layers:2': 64, 'weight_decay:0.0001': 64, 'weight_decay:1e-06': 64, 'num_layers:5': 64, 'hidden_dim:128': 64, 'embed_dim:128': 64, 'dropout:0.7': 64, 'LR:0.001': 64, 'BATCH_SIZE:256': 64}\n"
     ]
    }
   ]
  },
  {
   "cell_type": "code",
   "source": "hyperparams = {'BATCH_SIZE': 256,\n 'LR': 0.01,\n 'dropout': 0.4,\n 'embed_dim': 64,\n 'hidden_dim': 64,\n 'num_layers': 2,\n 'weight_decay': 0.0001}\n\nBATCH_SIZE=hyperparams[\"BATCH_SIZE\"]\nLR = hyperparams[\"LR\"]\nembed_dim = hyperparams[\"embed_dim\"]\nhidden_dim = hyperparams[\"hidden_dim\"]\nnum_layers = hyperparams[\"num_layers\"]\nweight_decay = hyperparams[\"weight_decay\"]\nword_count = 30\nEPOCHS = 15\nscheduler_patience=4\nscheduler_factor=0.2",
   "metadata": {
    "execution": {
     "iopub.status.busy": "2023-02-07T06:52:21.371009Z",
     "iopub.execute_input": "2023-02-07T06:52:21.371373Z",
     "iopub.status.idle": "2023-02-07T06:52:21.378687Z",
     "shell.execute_reply.started": "2023-02-07T06:52:21.371345Z",
     "shell.execute_reply": "2023-02-07T06:52:21.377456Z"
    },
    "trusted": true
   },
   "execution_count": 15,
   "outputs": []
  },
  {
   "cell_type": "code",
   "source": "\n# create train and valid dataset\ntrain_dataset, valid_dataset = torch.utils.data.random_split(dataset, [int(len(dataset)*0.8), len(dataset)-int(len(dataset)*0.8)])\n\n# import torch DataLoader\nfrom torch.utils.data import DataLoader\n\nmodel = MyLSTM(embed_dim, hidden_dim, vocab_size, num_class, word_count=word_count, dropout=dropout).to(device)\n\ntrain_dataloader = DataLoader(train_dataset, batch_size=BATCH_SIZE)\n\nvalid_dataloader = DataLoader(valid_dataset, batch_size=BATCH_SIZE)\n\nloss_func = torch.nn.CrossEntropyLoss()\noptimizer = torch.optim.Adam(model.parameters(), lr=LR, weight_decay=weight_decay)\n# scheduler = torch.optim.lr_scheduler.StepLR(optimizer, lr_step_size, gamma=lr_gamma)   # every 10 epochs, LR is multiplied by 0.7\nscheduler = torch.optim.lr_scheduler.ReduceLROnPlateau(optimizer, factor=scheduler_factor, patience=scheduler_patience)\n\n",
   "metadata": {
    "collapsed": false,
    "jupyter": {
     "outputs_hidden": false
    },
    "execution": {
     "iopub.status.busy": "2023-02-07T06:52:21.380284Z",
     "iopub.execute_input": "2023-02-07T06:52:21.380912Z",
     "iopub.status.idle": "2023-02-07T06:52:21.395990Z",
     "shell.execute_reply.started": "2023-02-07T06:52:21.380875Z",
     "shell.execute_reply": "2023-02-07T06:52:21.395029Z"
    },
    "trusted": true
   },
   "execution_count": 16,
   "outputs": []
  },
  {
   "cell_type": "code",
   "source": "total_accu = None\ntrain_accus=[]\nvalid_accus=[]\n\nfor epoch in range(1, EPOCHS + 1):\n    epoch_start_time = time.time()\n\n    model.train()\n    total_acc, total_count = 0, 0\n\n    for idx, (text, label) in enumerate(train_dataloader):\n        optimizer.zero_grad()\n        predicted_label = model(text)\n        loss = loss_func(predicted_label, label)\n        loss.backward()\n        # torch.nn.utils.clip_grad_norm_(model.parameters(), 0.1)\n        optimizer.step()\n\n    accu_train = evaluate(model, train_dataloader)\n    accu_valid = evaluate(model, valid_dataloader)\n    train_accus.append(accu_train)\n    valid_accus.append(accu_valid)\n    print('-' * 59)\n    print('| end of epoch {:3d} | time: {:5.2f}s | train f1 {:8.3f} | valid f1 {:8.3f} | lr: {:1.5f}'.format(\n        epoch,\n        time.time() - epoch_start_time,\n        accu_train,\n        accu_valid,\n        #  scheduler.get_last_lr()[0]))\n        optimizer.param_groups[0]['lr']))\n\n    scheduler.step(accu_valid) # learning rate scheduler after each epoch\n\nimport matplotlib.pyplot as plt\nplt.plot(train_accus, label='train_accu')\nplt.plot(valid_accus, label='valid_accu')\nplt.legend()\nplt.show()",
   "metadata": {
    "collapsed": false,
    "pycharm": {
     "is_executing": true
    },
    "jupyter": {
     "outputs_hidden": false
    },
    "execution": {
     "iopub.status.busy": "2023-02-07T06:52:21.397656Z",
     "iopub.execute_input": "2023-02-07T06:52:21.398038Z",
     "iopub.status.idle": "2023-02-07T06:54:06.364280Z",
     "shell.execute_reply.started": "2023-02-07T06:52:21.398005Z",
     "shell.execute_reply": "2023-02-07T06:54:06.363292Z"
    },
    "trusted": true
   },
   "execution_count": 17,
   "outputs": [
    {
     "name": "stdout",
     "text": "-----------------------------------------------------------\n| end of epoch   1 | time:  7.31s | train f1    0.534 | valid f1    0.509 | lr: 0.01000\n-----------------------------------------------------------\n| end of epoch   2 | time:  6.76s | train f1    0.727 | valid f1    0.670 | lr: 0.01000\n-----------------------------------------------------------\n| end of epoch   3 | time:  6.84s | train f1    0.787 | valid f1    0.708 | lr: 0.01000\n-----------------------------------------------------------\n| end of epoch   4 | time:  7.25s | train f1    0.831 | valid f1    0.715 | lr: 0.01000\n-----------------------------------------------------------\n| end of epoch   5 | time:  6.85s | train f1    0.867 | valid f1    0.722 | lr: 0.01000\n-----------------------------------------------------------\n| end of epoch   6 | time:  6.96s | train f1    0.899 | valid f1    0.721 | lr: 0.01000\n-----------------------------------------------------------\n| end of epoch   7 | time:  6.89s | train f1    0.907 | valid f1    0.732 | lr: 0.00200\n-----------------------------------------------------------\n| end of epoch   8 | time:  6.83s | train f1    0.922 | valid f1    0.732 | lr: 0.00200\n-----------------------------------------------------------\n| end of epoch   9 | time:  7.36s | train f1    0.930 | valid f1    0.726 | lr: 0.00200\n-----------------------------------------------------------\n| end of epoch  10 | time:  6.79s | train f1    0.940 | valid f1    0.713 | lr: 0.00200\n-----------------------------------------------------------\n| end of epoch  11 | time:  6.97s | train f1    0.946 | valid f1    0.707 | lr: 0.00200\n-----------------------------------------------------------\n| end of epoch  12 | time:  6.87s | train f1    0.955 | valid f1    0.711 | lr: 0.00040\n-----------------------------------------------------------\n| end of epoch  13 | time:  6.69s | train f1    0.958 | valid f1    0.713 | lr: 0.00040\n-----------------------------------------------------------\n| end of epoch  14 | time:  7.15s | train f1    0.960 | valid f1    0.711 | lr: 0.00040\n-----------------------------------------------------------\n| end of epoch  15 | time:  7.21s | train f1    0.961 | valid f1    0.708 | lr: 0.00040\n",
     "output_type": "stream"
    },
    {
     "output_type": "display_data",
     "data": {
      "text/plain": "<Figure size 432x288 with 1 Axes>",
      "image/png": "[encoded data removed]"
     },
     "metadata": {
      "needs_background": "light"
     }
    }
   ]
  },
  {
   "cell_type": "code",
   "source": "df_test = pd.read_csv(test_csv)\ndf_test.head()",
   "metadata": {
    "collapsed": false,
    "pycharm": {
     "is_executing": true
    },
    "jupyter": {
     "outputs_hidden": false
    },
    "execution": {
     "iopub.status.busy": "2023-02-07T06:54:06.366115Z",
     "iopub.execute_input": "2023-02-07T06:54:06.367048Z",
     "iopub.status.idle": "2023-02-07T06:54:06.391397Z",
     "shell.execute_reply.started": "2023-02-07T06:54:06.367004Z",
     "shell.execute_reply": "2023-02-07T06:54:06.390436Z"
    },
    "trusted": true
   },
   "execution_count": 18,
   "outputs": [
    {
     "execution_count": 18,
     "output_type": "execute_result",
     "data": {
      "text/plain": "   id keyword location                                               text\n0   0     NaN      NaN                 Just happened a terrible car crash\n1   2     NaN      NaN  Heard about #earthquake is different cities, s...\n2   3     NaN      NaN  there is a forest fire at spot pond, geese are...\n3   9     NaN      NaN           Apocalypse lighting. #Spokane #wildfires\n4  11     NaN      NaN      Typhoon Soudelor kills 28 in China and Taiwan",
      "text/html": "<div>\n<style scoped>\n    .dataframe tbody tr th:only-of-type {\n        vertical-align: middle;\n    }\n\n    .dataframe tbody tr th {\n        vertical-align: top;\n    }\n\n    .dataframe thead th {\n        text-align: right;\n    }\n</style>\n<table border=\"1\" class=\"dataframe\">\n  <thead>\n    <tr style=\"text-align: right;\">\n      <th></th>\n      <th>id</th>\n      <th>keyword</th>\n      <th>location</th>\n      <th>text</th>\n    </tr>\n  </thead>\n  <tbody>\n    <tr>\n      <th>0</th>\n      <td>0</td>\n      <td>NaN</td>\n      <td>NaN</td>\n      <td>Just happened a terrible car crash</td>\n    </tr>\n    <tr>\n      <th>1</th>\n      <td>2</td>\n      <td>NaN</td>\n      <td>NaN</td>\n      <td>Heard about #earthquake is different cities, s...</td>\n    </tr>\n    <tr>\n      <th>2</th>\n      <td>3</td>\n      <td>NaN</td>\n      <td>NaN</td>\n      <td>there is a forest fire at spot pond, geese are...</td>\n    </tr>\n    <tr>\n      <th>3</th>\n      <td>9</td>\n      <td>NaN</td>\n      <td>NaN</td>\n      <td>Apocalypse lighting. #Spokane #wildfires</td>\n    </tr>\n    <tr>\n      <th>4</th>\n      <td>11</td>\n      <td>NaN</td>\n      <td>NaN</td>\n      <td>Typhoon Soudelor kills 28 in China and Taiwan</td>\n    </tr>\n  </tbody>\n</table>\n</div>"
     },
     "metadata": {}
    }
   ]
  },
  {
   "cell_type": "code",
   "source": "test_dataset = TwitterDisasterDataset(df_test, word_count=word_count, vocab_size=vocab_size, train=False)\ntest_dataloader = DataLoader(test_dataset, batch_size=BATCH_SIZE)\n\npredictions=[]\nmodel.eval()\nwith torch.no_grad():\n    for idx, (text) in enumerate(test_dataloader):\n        predicted_label = model(text)\n        predictions.append(predicted_label.argmax(1).cpu().numpy())\n        \n\npredictions=np.concatenate(predictions)\nprint(predictions.shape)",
   "metadata": {
    "collapsed": false,
    "pycharm": {
     "is_executing": true
    },
    "jupyter": {
     "outputs_hidden": false
    },
    "execution": {
     "iopub.status.busy": "2023-02-07T06:54:06.392595Z",
     "iopub.execute_input": "2023-02-07T06:54:06.393445Z",
     "iopub.status.idle": "2023-02-07T06:54:07.989447Z",
     "shell.execute_reply.started": "2023-02-07T06:54:06.393403Z",
     "shell.execute_reply": "2023-02-07T06:54:07.988289Z"
    },
    "trusted": true
   },
   "execution_count": 19,
   "outputs": [
    {
     "name": "stdout",
     "text": "(3263,)\n",
     "output_type": "stream"
    }
   ]
  },
  {
   "cell_type": "code",
   "source": "",
   "metadata": {},
   "execution_count": null,
   "outputs": []
  },
  {
   "cell_type": "code",
   "source": "len(predictions)",
   "metadata": {
    "execution": {
     "iopub.status.busy": "2023-02-07T06:54:07.990936Z",
     "iopub.execute_input": "2023-02-07T06:54:07.991414Z",
     "iopub.status.idle": "2023-02-07T06:54:07.998209Z",
     "shell.execute_reply.started": "2023-02-07T06:54:07.991374Z",
     "shell.execute_reply": "2023-02-07T06:54:07.997173Z"
    },
    "trusted": true
   },
   "execution_count": 20,
   "outputs": [
    {
     "execution_count": 20,
     "output_type": "execute_result",
     "data": {
      "text/plain": "3263"
     },
     "metadata": {}
    }
   ]
  },
  {
   "cell_type": "code",
   "source": "df_submission = pd.read_csv(submission_csv)\ndf_submission.head()",
   "metadata": {
    "collapsed": false,
    "pycharm": {
     "is_executing": true
    },
    "jupyter": {
     "outputs_hidden": false
    },
    "execution": {
     "iopub.status.busy": "2023-02-07T06:54:07.999874Z",
     "iopub.execute_input": "2023-02-07T06:54:08.000569Z",
     "iopub.status.idle": "2023-02-07T06:54:08.016134Z",
     "shell.execute_reply.started": "2023-02-07T06:54:08.000523Z",
     "shell.execute_reply": "2023-02-07T06:54:08.014912Z"
    },
    "trusted": true
   },
   "execution_count": 21,
   "outputs": [
    {
     "execution_count": 21,
     "output_type": "execute_result",
     "data": {
      "text/plain": "   id  target\n0   0       0\n1   2       0\n2   3       0\n3   9       0\n4  11       0",
      "text/html": "<div>\n<style scoped>\n    .dataframe tbody tr th:only-of-type {\n        vertical-align: middle;\n    }\n\n    .dataframe tbody tr th {\n        vertical-align: top;\n    }\n\n    .dataframe thead th {\n        text-align: right;\n    }\n</style>\n<table border=\"1\" class=\"dataframe\">\n  <thead>\n    <tr style=\"text-align: right;\">\n      <th></th>\n      <th>id</th>\n      <th>target</th>\n    </tr>\n  </thead>\n  <tbody>\n    <tr>\n      <th>0</th>\n      <td>0</td>\n      <td>0</td>\n    </tr>\n    <tr>\n      <th>1</th>\n      <td>2</td>\n      <td>0</td>\n    </tr>\n    <tr>\n      <th>2</th>\n      <td>3</td>\n      <td>0</td>\n    </tr>\n    <tr>\n      <th>3</th>\n      <td>9</td>\n      <td>0</td>\n    </tr>\n    <tr>\n      <th>4</th>\n      <td>11</td>\n      <td>0</td>\n    </tr>\n  </tbody>\n</table>\n</div>"
     },
     "metadata": {}
    }
   ]
  },
  {
   "cell_type": "code",
   "source": "df_submission[\"target\"] = predictions\ndf_submission.head()",
   "metadata": {
    "collapsed": false,
    "pycharm": {
     "is_executing": true
    },
    "jupyter": {
     "outputs_hidden": false
    },
    "execution": {
     "iopub.status.busy": "2023-02-07T06:54:08.017956Z",
     "iopub.execute_input": "2023-02-07T06:54:08.018357Z",
     "iopub.status.idle": "2023-02-07T06:54:08.030100Z",
     "shell.execute_reply.started": "2023-02-07T06:54:08.018321Z",
     "shell.execute_reply": "2023-02-07T06:54:08.028748Z"
    },
    "trusted": true
   },
   "execution_count": 22,
   "outputs": [
    {
     "execution_count": 22,
     "output_type": "execute_result",
     "data": {
      "text/plain": "   id  target\n0   0       1\n1   2       1\n2   3       1\n3   9       0\n4  11       1",
      "text/html": "<div>\n<style scoped>\n    .dataframe tbody tr th:only-of-type {\n        vertical-align: middle;\n    }\n\n    .dataframe tbody tr th {\n        vertical-align: top;\n    }\n\n    .dataframe thead th {\n        text-align: right;\n    }\n</style>\n<table border=\"1\" class=\"dataframe\">\n  <thead>\n    <tr style=\"text-align: right;\">\n      <th></th>\n      <th>id</th>\n      <th>target</th>\n    </tr>\n  </thead>\n  <tbody>\n    <tr>\n      <th>0</th>\n      <td>0</td>\n      <td>1</td>\n    </tr>\n    <tr>\n      <th>1</th>\n      <td>2</td>\n      <td>1</td>\n    </tr>\n    <tr>\n      <th>2</th>\n      <td>3</td>\n      <td>1</td>\n    </tr>\n    <tr>\n      <th>3</th>\n      <td>9</td>\n      <td>0</td>\n    </tr>\n    <tr>\n      <th>4</th>\n      <td>11</td>\n      <td>1</td>\n    </tr>\n  </tbody>\n</table>\n</div>"
     },
     "metadata": {}
    }
   ]
  },
  {
   "cell_type": "code",
   "source": "df_submission.to_csv(\"submission.csv\", index=False)",
   "metadata": {
    "collapsed": false,
    "pycharm": {
     "is_executing": true
    },
    "jupyter": {
     "outputs_hidden": false
    },
    "execution": {
     "iopub.status.busy": "2023-02-07T06:54:08.032254Z",
     "iopub.execute_input": "2023-02-07T06:54:08.032715Z",
     "iopub.status.idle": "2023-02-07T06:54:08.044333Z",
     "shell.execute_reply.started": "2023-02-07T06:54:08.032659Z",
     "shell.execute_reply": "2023-02-07T06:54:08.043330Z"
    },
    "trusted": true
   },
   "execution_count": 23,
   "outputs": []
  },
  {
   "cell_type": "code",
   "source": "df_submission.describe()",
   "metadata": {
    "collapsed": false,
    "pycharm": {
     "is_executing": true
    },
    "jupyter": {
     "outputs_hidden": false
    },
    "execution": {
     "iopub.status.busy": "2023-02-07T06:54:08.045909Z",
     "iopub.execute_input": "2023-02-07T06:54:08.046555Z",
     "iopub.status.idle": "2023-02-07T06:54:08.073038Z",
     "shell.execute_reply.started": "2023-02-07T06:54:08.046516Z",
     "shell.execute_reply": "2023-02-07T06:54:08.071293Z"
    },
    "trusted": true
   },
   "execution_count": 24,
   "outputs": [
    {
     "execution_count": 24,
     "output_type": "execute_result",
     "data": {
      "text/plain": "                 id       target\ncount   3263.000000  3263.000000\nmean    5427.152927     0.393196\nstd     3146.427221     0.488535\nmin        0.000000     0.000000\n25%     2683.000000     0.000000\n50%     5500.000000     0.000000\n75%     8176.000000     1.000000\nmax    10875.000000     1.000000",
      "text/html": "<div>\n<style scoped>\n    .dataframe tbody tr th:only-of-type {\n        vertical-align: middle;\n    }\n\n    .dataframe tbody tr th {\n        vertical-align: top;\n    }\n\n    .dataframe thead th {\n        text-align: right;\n    }\n</style>\n<table border=\"1\" class=\"dataframe\">\n  <thead>\n    <tr style=\"text-align: right;\">\n      <th></th>\n      <th>id</th>\n      <th>target</th>\n    </tr>\n  </thead>\n  <tbody>\n    <tr>\n      <th>count</th>\n      <td>3263.000000</td>\n      <td>3263.000000</td>\n    </tr>\n    <tr>\n      <th>mean</th>\n      <td>5427.152927</td>\n      <td>0.393196</td>\n    </tr>\n    <tr>\n      <th>std</th>\n      <td>3146.427221</td>\n      <td>0.488535</td>\n    </tr>\n    <tr>\n      <th>min</th>\n      <td>0.000000</td>\n      <td>0.000000</td>\n    </tr>\n    <tr>\n      <th>25%</th>\n      <td>2683.000000</td>\n      <td>0.000000</td>\n    </tr>\n    <tr>\n      <th>50%</th>\n      <td>5500.000000</td>\n      <td>0.000000</td>\n    </tr>\n    <tr>\n      <th>75%</th>\n      <td>8176.000000</td>\n      <td>1.000000</td>\n    </tr>\n    <tr>\n      <th>max</th>\n      <td>10875.000000</td>\n      <td>1.000000</td>\n    </tr>\n  </tbody>\n</table>\n</div>"
     },
     "metadata": {}
    }
   ]
  },
  {
   "cell_type": "code",
   "source": "",
   "metadata": {},
   "execution_count": null,
   "outputs": []
  }
 ]
}
